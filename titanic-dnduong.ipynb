{
 "cells": [
  {
   "cell_type": "code",
   "execution_count": 1,
   "metadata": {
    "_cell_guid": "b1076dfc-b9ad-4769-8c92-a6c4dae69d19",
    "_kg_hide-input": true,
    "_uuid": "8f2839f25d086af736a60e9eeb907d3b93b6e0e5",
    "execution": {
     "iopub.execute_input": "2021-01-22T01:41:51.083166Z",
     "iopub.status.busy": "2021-01-22T01:41:51.082098Z",
     "iopub.status.idle": "2021-01-22T01:41:51.088130Z",
     "shell.execute_reply": "2021-01-22T01:41:51.087290Z"
    },
    "papermill": {
     "duration": 0.039461,
     "end_time": "2021-01-22T01:41:51.088269",
     "exception": false,
     "start_time": "2021-01-22T01:41:51.048808",
     "status": "completed"
    },
    "tags": []
   },
   "outputs": [
    {
     "name": "stdout",
     "output_type": "stream",
     "text": [
      "/kaggle/input/titanic/train.csv\n",
      "/kaggle/input/titanic/test.csv\n",
      "/kaggle/input/titanic/gender_submission.csv\n"
     ]
    }
   ],
   "source": [
    "# This Python 3 environment comes with many helpful analytics libraries installed\n",
    "# It is defined by the kaggle/python Docker image: https://github.com/kaggle/docker-python\n",
    "# For example, here's several helpful packages to load\n",
    "\n",
    "import numpy as np # linear algebra\n",
    "import pandas as pd # data processing, CSV file I/O (e.g. pd.read_csv)\n",
    "\n",
    "# Input data files are available in the read-only \"../input/\" directory\n",
    "# For example, running this (by clicking run or pressing Shift+Enter) will list all files under the input directory\n",
    "\n",
    "import os\n",
    "for dirname, _, filenames in os.walk('/kaggle/input'):\n",
    "    for filename in filenames:\n",
    "        print(os.path.join(dirname, filename))\n",
    "\n",
    "# You can write up to 20GB to the current directory (/kaggle/working/) that gets preserved as output when you create a version using \"Save & Run All\" \n",
    "# You can also write temporary files to /kaggle/temp/, but they won't be saved outside of the current session"
   ]
  },
  {
   "cell_type": "code",
   "execution_count": 2,
   "metadata": {
    "execution": {
     "iopub.execute_input": "2021-01-22T01:41:51.144963Z",
     "iopub.status.busy": "2021-01-22T01:41:51.144283Z",
     "iopub.status.idle": "2021-01-22T01:41:52.679698Z",
     "shell.execute_reply": "2021-01-22T01:41:52.679001Z"
    },
    "papermill": {
     "duration": 1.566032,
     "end_time": "2021-01-22T01:41:52.679818",
     "exception": false,
     "start_time": "2021-01-22T01:41:51.113786",
     "status": "completed"
    },
    "tags": []
   },
   "outputs": [],
   "source": [
    "import math\n",
    "import matplotlib.pyplot as plt\n",
    "import seaborn as sns\n",
    "from sklearn.preprocessing import StandardScaler\n",
    "from sklearn.preprocessing import OneHotEncoder\n",
    "from sklearn.compose import ColumnTransformer\n",
    "from sklearn.ensemble import RandomForestClassifier"
   ]
  },
  {
   "cell_type": "code",
   "execution_count": 3,
   "metadata": {
    "_cell_guid": "79c7e3d0-c299-4dcb-8224-4455121ee9b0",
    "_uuid": "d629ff2d2480ee46fbb7e2d37f6b5fab8052498a",
    "execution": {
     "iopub.execute_input": "2021-01-22T01:41:52.734771Z",
     "iopub.status.busy": "2021-01-22T01:41:52.734069Z",
     "iopub.status.idle": "2021-01-22T01:41:52.773814Z",
     "shell.execute_reply": "2021-01-22T01:41:52.772917Z"
    },
    "papermill": {
     "duration": 0.069807,
     "end_time": "2021-01-22T01:41:52.773927",
     "exception": false,
     "start_time": "2021-01-22T01:41:52.704120",
     "status": "completed"
    },
    "tags": []
   },
   "outputs": [
    {
     "data": {
      "text/html": [
       "<div>\n",
       "<style scoped>\n",
       "    .dataframe tbody tr th:only-of-type {\n",
       "        vertical-align: middle;\n",
       "    }\n",
       "\n",
       "    .dataframe tbody tr th {\n",
       "        vertical-align: top;\n",
       "    }\n",
       "\n",
       "    .dataframe thead th {\n",
       "        text-align: right;\n",
       "    }\n",
       "</style>\n",
       "<table border=\"1\" class=\"dataframe\">\n",
       "  <thead>\n",
       "    <tr style=\"text-align: right;\">\n",
       "      <th></th>\n",
       "      <th>PassengerId</th>\n",
       "      <th>Survived</th>\n",
       "      <th>Pclass</th>\n",
       "      <th>Name</th>\n",
       "      <th>Sex</th>\n",
       "      <th>Age</th>\n",
       "      <th>SibSp</th>\n",
       "      <th>Parch</th>\n",
       "      <th>Ticket</th>\n",
       "      <th>Fare</th>\n",
       "      <th>Cabin</th>\n",
       "      <th>Embarked</th>\n",
       "    </tr>\n",
       "  </thead>\n",
       "  <tbody>\n",
       "    <tr>\n",
       "      <th>0</th>\n",
       "      <td>1</td>\n",
       "      <td>0</td>\n",
       "      <td>3</td>\n",
       "      <td>Braund, Mr. Owen Harris</td>\n",
       "      <td>male</td>\n",
       "      <td>22.0</td>\n",
       "      <td>1</td>\n",
       "      <td>0</td>\n",
       "      <td>A/5 21171</td>\n",
       "      <td>7.2500</td>\n",
       "      <td>NaN</td>\n",
       "      <td>S</td>\n",
       "    </tr>\n",
       "    <tr>\n",
       "      <th>1</th>\n",
       "      <td>2</td>\n",
       "      <td>1</td>\n",
       "      <td>1</td>\n",
       "      <td>Cumings, Mrs. John Bradley (Florence Briggs Th...</td>\n",
       "      <td>female</td>\n",
       "      <td>38.0</td>\n",
       "      <td>1</td>\n",
       "      <td>0</td>\n",
       "      <td>PC 17599</td>\n",
       "      <td>71.2833</td>\n",
       "      <td>C85</td>\n",
       "      <td>C</td>\n",
       "    </tr>\n",
       "    <tr>\n",
       "      <th>2</th>\n",
       "      <td>3</td>\n",
       "      <td>1</td>\n",
       "      <td>3</td>\n",
       "      <td>Heikkinen, Miss. Laina</td>\n",
       "      <td>female</td>\n",
       "      <td>26.0</td>\n",
       "      <td>0</td>\n",
       "      <td>0</td>\n",
       "      <td>STON/O2. 3101282</td>\n",
       "      <td>7.9250</td>\n",
       "      <td>NaN</td>\n",
       "      <td>S</td>\n",
       "    </tr>\n",
       "    <tr>\n",
       "      <th>3</th>\n",
       "      <td>4</td>\n",
       "      <td>1</td>\n",
       "      <td>1</td>\n",
       "      <td>Futrelle, Mrs. Jacques Heath (Lily May Peel)</td>\n",
       "      <td>female</td>\n",
       "      <td>35.0</td>\n",
       "      <td>1</td>\n",
       "      <td>0</td>\n",
       "      <td>113803</td>\n",
       "      <td>53.1000</td>\n",
       "      <td>C123</td>\n",
       "      <td>S</td>\n",
       "    </tr>\n",
       "    <tr>\n",
       "      <th>4</th>\n",
       "      <td>5</td>\n",
       "      <td>0</td>\n",
       "      <td>3</td>\n",
       "      <td>Allen, Mr. William Henry</td>\n",
       "      <td>male</td>\n",
       "      <td>35.0</td>\n",
       "      <td>0</td>\n",
       "      <td>0</td>\n",
       "      <td>373450</td>\n",
       "      <td>8.0500</td>\n",
       "      <td>NaN</td>\n",
       "      <td>S</td>\n",
       "    </tr>\n",
       "  </tbody>\n",
       "</table>\n",
       "</div>"
      ],
      "text/plain": [
       "   PassengerId  Survived  Pclass  \\\n",
       "0            1         0       3   \n",
       "1            2         1       1   \n",
       "2            3         1       3   \n",
       "3            4         1       1   \n",
       "4            5         0       3   \n",
       "\n",
       "                                                Name     Sex   Age  SibSp  \\\n",
       "0                            Braund, Mr. Owen Harris    male  22.0      1   \n",
       "1  Cumings, Mrs. John Bradley (Florence Briggs Th...  female  38.0      1   \n",
       "2                             Heikkinen, Miss. Laina  female  26.0      0   \n",
       "3       Futrelle, Mrs. Jacques Heath (Lily May Peel)  female  35.0      1   \n",
       "4                           Allen, Mr. William Henry    male  35.0      0   \n",
       "\n",
       "   Parch            Ticket     Fare Cabin Embarked  \n",
       "0      0         A/5 21171   7.2500   NaN        S  \n",
       "1      0          PC 17599  71.2833   C85        C  \n",
       "2      0  STON/O2. 3101282   7.9250   NaN        S  \n",
       "3      0            113803  53.1000  C123        S  \n",
       "4      0            373450   8.0500   NaN        S  "
      ]
     },
     "execution_count": 3,
     "metadata": {},
     "output_type": "execute_result"
    }
   ],
   "source": [
    "train_data = pd.read_csv(\"/kaggle/input/titanic/train.csv\")\n",
    "train_data.head()"
   ]
  },
  {
   "cell_type": "code",
   "execution_count": 4,
   "metadata": {
    "execution": {
     "iopub.execute_input": "2021-01-22T01:41:52.830374Z",
     "iopub.status.busy": "2021-01-22T01:41:52.829740Z",
     "iopub.status.idle": "2021-01-22T01:41:52.853113Z",
     "shell.execute_reply": "2021-01-22T01:41:52.852640Z"
    },
    "papermill": {
     "duration": 0.054613,
     "end_time": "2021-01-22T01:41:52.853229",
     "exception": false,
     "start_time": "2021-01-22T01:41:52.798616",
     "status": "completed"
    },
    "tags": []
   },
   "outputs": [
    {
     "data": {
      "text/html": [
       "<div>\n",
       "<style scoped>\n",
       "    .dataframe tbody tr th:only-of-type {\n",
       "        vertical-align: middle;\n",
       "    }\n",
       "\n",
       "    .dataframe tbody tr th {\n",
       "        vertical-align: top;\n",
       "    }\n",
       "\n",
       "    .dataframe thead th {\n",
       "        text-align: right;\n",
       "    }\n",
       "</style>\n",
       "<table border=\"1\" class=\"dataframe\">\n",
       "  <thead>\n",
       "    <tr style=\"text-align: right;\">\n",
       "      <th></th>\n",
       "      <th>PassengerId</th>\n",
       "      <th>Pclass</th>\n",
       "      <th>Name</th>\n",
       "      <th>Sex</th>\n",
       "      <th>Age</th>\n",
       "      <th>SibSp</th>\n",
       "      <th>Parch</th>\n",
       "      <th>Ticket</th>\n",
       "      <th>Fare</th>\n",
       "      <th>Cabin</th>\n",
       "      <th>Embarked</th>\n",
       "    </tr>\n",
       "  </thead>\n",
       "  <tbody>\n",
       "    <tr>\n",
       "      <th>0</th>\n",
       "      <td>892</td>\n",
       "      <td>3</td>\n",
       "      <td>Kelly, Mr. James</td>\n",
       "      <td>male</td>\n",
       "      <td>34.5</td>\n",
       "      <td>0</td>\n",
       "      <td>0</td>\n",
       "      <td>330911</td>\n",
       "      <td>7.8292</td>\n",
       "      <td>NaN</td>\n",
       "      <td>Q</td>\n",
       "    </tr>\n",
       "    <tr>\n",
       "      <th>1</th>\n",
       "      <td>893</td>\n",
       "      <td>3</td>\n",
       "      <td>Wilkes, Mrs. James (Ellen Needs)</td>\n",
       "      <td>female</td>\n",
       "      <td>47.0</td>\n",
       "      <td>1</td>\n",
       "      <td>0</td>\n",
       "      <td>363272</td>\n",
       "      <td>7.0000</td>\n",
       "      <td>NaN</td>\n",
       "      <td>S</td>\n",
       "    </tr>\n",
       "    <tr>\n",
       "      <th>2</th>\n",
       "      <td>894</td>\n",
       "      <td>2</td>\n",
       "      <td>Myles, Mr. Thomas Francis</td>\n",
       "      <td>male</td>\n",
       "      <td>62.0</td>\n",
       "      <td>0</td>\n",
       "      <td>0</td>\n",
       "      <td>240276</td>\n",
       "      <td>9.6875</td>\n",
       "      <td>NaN</td>\n",
       "      <td>Q</td>\n",
       "    </tr>\n",
       "    <tr>\n",
       "      <th>3</th>\n",
       "      <td>895</td>\n",
       "      <td>3</td>\n",
       "      <td>Wirz, Mr. Albert</td>\n",
       "      <td>male</td>\n",
       "      <td>27.0</td>\n",
       "      <td>0</td>\n",
       "      <td>0</td>\n",
       "      <td>315154</td>\n",
       "      <td>8.6625</td>\n",
       "      <td>NaN</td>\n",
       "      <td>S</td>\n",
       "    </tr>\n",
       "    <tr>\n",
       "      <th>4</th>\n",
       "      <td>896</td>\n",
       "      <td>3</td>\n",
       "      <td>Hirvonen, Mrs. Alexander (Helga E Lindqvist)</td>\n",
       "      <td>female</td>\n",
       "      <td>22.0</td>\n",
       "      <td>1</td>\n",
       "      <td>1</td>\n",
       "      <td>3101298</td>\n",
       "      <td>12.2875</td>\n",
       "      <td>NaN</td>\n",
       "      <td>S</td>\n",
       "    </tr>\n",
       "  </tbody>\n",
       "</table>\n",
       "</div>"
      ],
      "text/plain": [
       "   PassengerId  Pclass                                          Name     Sex  \\\n",
       "0          892       3                              Kelly, Mr. James    male   \n",
       "1          893       3              Wilkes, Mrs. James (Ellen Needs)  female   \n",
       "2          894       2                     Myles, Mr. Thomas Francis    male   \n",
       "3          895       3                              Wirz, Mr. Albert    male   \n",
       "4          896       3  Hirvonen, Mrs. Alexander (Helga E Lindqvist)  female   \n",
       "\n",
       "    Age  SibSp  Parch   Ticket     Fare Cabin Embarked  \n",
       "0  34.5      0      0   330911   7.8292   NaN        Q  \n",
       "1  47.0      1      0   363272   7.0000   NaN        S  \n",
       "2  62.0      0      0   240276   9.6875   NaN        Q  \n",
       "3  27.0      0      0   315154   8.6625   NaN        S  \n",
       "4  22.0      1      1  3101298  12.2875   NaN        S  "
      ]
     },
     "execution_count": 4,
     "metadata": {},
     "output_type": "execute_result"
    }
   ],
   "source": [
    "test_data = pd.read_csv(\"/kaggle/input/titanic/test.csv\")\n",
    "test_data.head()"
   ]
  },
  {
   "cell_type": "code",
   "execution_count": 5,
   "metadata": {
    "execution": {
     "iopub.execute_input": "2021-01-22T01:41:52.909712Z",
     "iopub.status.busy": "2021-01-22T01:41:52.909101Z",
     "iopub.status.idle": "2021-01-22T01:41:52.914055Z",
     "shell.execute_reply": "2021-01-22T01:41:52.914580Z"
    },
    "papermill": {
     "duration": 0.035915,
     "end_time": "2021-01-22T01:41:52.914728",
     "exception": false,
     "start_time": "2021-01-22T01:41:52.878813",
     "status": "completed"
    },
    "tags": []
   },
   "outputs": [
    {
     "data": {
      "text/plain": [
       "PassengerId      0\n",
       "Survived         0\n",
       "Pclass           0\n",
       "Name             0\n",
       "Sex              0\n",
       "Age            177\n",
       "SibSp            0\n",
       "Parch            0\n",
       "Ticket           0\n",
       "Fare             0\n",
       "Cabin          687\n",
       "Embarked         2\n",
       "dtype: int64"
      ]
     },
     "execution_count": 5,
     "metadata": {},
     "output_type": "execute_result"
    }
   ],
   "source": [
    "train_data.isnull().sum()"
   ]
  },
  {
   "cell_type": "code",
   "execution_count": 6,
   "metadata": {
    "execution": {
     "iopub.execute_input": "2021-01-22T01:41:52.970320Z",
     "iopub.status.busy": "2021-01-22T01:41:52.969748Z",
     "iopub.status.idle": "2021-01-22T01:41:52.976146Z",
     "shell.execute_reply": "2021-01-22T01:41:52.976700Z"
    },
    "papermill": {
     "duration": 0.036073,
     "end_time": "2021-01-22T01:41:52.976839",
     "exception": false,
     "start_time": "2021-01-22T01:41:52.940766",
     "status": "completed"
    },
    "tags": []
   },
   "outputs": [
    {
     "data": {
      "text/plain": [
       "PassengerId      0\n",
       "Pclass           0\n",
       "Name             0\n",
       "Sex              0\n",
       "Age             86\n",
       "SibSp            0\n",
       "Parch            0\n",
       "Ticket           0\n",
       "Fare             1\n",
       "Cabin          327\n",
       "Embarked         0\n",
       "dtype: int64"
      ]
     },
     "execution_count": 6,
     "metadata": {},
     "output_type": "execute_result"
    }
   ],
   "source": [
    "test_data.isnull().sum()"
   ]
  },
  {
   "cell_type": "code",
   "execution_count": 7,
   "metadata": {
    "execution": {
     "iopub.execute_input": "2021-01-22T01:41:53.031804Z",
     "iopub.status.busy": "2021-01-22T01:41:53.031171Z",
     "iopub.status.idle": "2021-01-22T01:41:53.037399Z",
     "shell.execute_reply": "2021-01-22T01:41:53.038028Z"
    },
    "papermill": {
     "duration": 0.03542,
     "end_time": "2021-01-22T01:41:53.038165",
     "exception": false,
     "start_time": "2021-01-22T01:41:53.002745",
     "status": "completed"
    },
    "tags": []
   },
   "outputs": [
    {
     "data": {
      "text/plain": [
       "PassengerId      int64\n",
       "Survived         int64\n",
       "Pclass           int64\n",
       "Name            object\n",
       "Sex             object\n",
       "Age            float64\n",
       "SibSp            int64\n",
       "Parch            int64\n",
       "Ticket          object\n",
       "Fare           float64\n",
       "Cabin           object\n",
       "Embarked        object\n",
       "dtype: object"
      ]
     },
     "execution_count": 7,
     "metadata": {},
     "output_type": "execute_result"
    }
   ],
   "source": [
    "train_data.dtypes"
   ]
  },
  {
   "cell_type": "code",
   "execution_count": 8,
   "metadata": {
    "execution": {
     "iopub.execute_input": "2021-01-22T01:41:53.093909Z",
     "iopub.status.busy": "2021-01-22T01:41:53.093222Z",
     "iopub.status.idle": "2021-01-22T01:41:53.129708Z",
     "shell.execute_reply": "2021-01-22T01:41:53.128892Z"
    },
    "papermill": {
     "duration": 0.065572,
     "end_time": "2021-01-22T01:41:53.130007",
     "exception": false,
     "start_time": "2021-01-22T01:41:53.064435",
     "status": "completed"
    },
    "tags": []
   },
   "outputs": [
    {
     "data": {
      "text/html": [
       "<div>\n",
       "<style scoped>\n",
       "    .dataframe tbody tr th:only-of-type {\n",
       "        vertical-align: middle;\n",
       "    }\n",
       "\n",
       "    .dataframe tbody tr th {\n",
       "        vertical-align: top;\n",
       "    }\n",
       "\n",
       "    .dataframe thead th {\n",
       "        text-align: right;\n",
       "    }\n",
       "</style>\n",
       "<table border=\"1\" class=\"dataframe\">\n",
       "  <thead>\n",
       "    <tr style=\"text-align: right;\">\n",
       "      <th></th>\n",
       "      <th>PassengerId</th>\n",
       "      <th>Survived</th>\n",
       "      <th>Pclass</th>\n",
       "      <th>Age</th>\n",
       "      <th>SibSp</th>\n",
       "      <th>Parch</th>\n",
       "      <th>Fare</th>\n",
       "    </tr>\n",
       "  </thead>\n",
       "  <tbody>\n",
       "    <tr>\n",
       "      <th>count</th>\n",
       "      <td>891.000000</td>\n",
       "      <td>891.000000</td>\n",
       "      <td>891.000000</td>\n",
       "      <td>714.000000</td>\n",
       "      <td>891.000000</td>\n",
       "      <td>891.000000</td>\n",
       "      <td>891.000000</td>\n",
       "    </tr>\n",
       "    <tr>\n",
       "      <th>mean</th>\n",
       "      <td>446.000000</td>\n",
       "      <td>0.383838</td>\n",
       "      <td>2.308642</td>\n",
       "      <td>29.699118</td>\n",
       "      <td>0.523008</td>\n",
       "      <td>0.381594</td>\n",
       "      <td>32.204208</td>\n",
       "    </tr>\n",
       "    <tr>\n",
       "      <th>std</th>\n",
       "      <td>257.353842</td>\n",
       "      <td>0.486592</td>\n",
       "      <td>0.836071</td>\n",
       "      <td>14.526497</td>\n",
       "      <td>1.102743</td>\n",
       "      <td>0.806057</td>\n",
       "      <td>49.693429</td>\n",
       "    </tr>\n",
       "    <tr>\n",
       "      <th>min</th>\n",
       "      <td>1.000000</td>\n",
       "      <td>0.000000</td>\n",
       "      <td>1.000000</td>\n",
       "      <td>0.420000</td>\n",
       "      <td>0.000000</td>\n",
       "      <td>0.000000</td>\n",
       "      <td>0.000000</td>\n",
       "    </tr>\n",
       "    <tr>\n",
       "      <th>25%</th>\n",
       "      <td>223.500000</td>\n",
       "      <td>0.000000</td>\n",
       "      <td>2.000000</td>\n",
       "      <td>20.125000</td>\n",
       "      <td>0.000000</td>\n",
       "      <td>0.000000</td>\n",
       "      <td>7.910400</td>\n",
       "    </tr>\n",
       "    <tr>\n",
       "      <th>50%</th>\n",
       "      <td>446.000000</td>\n",
       "      <td>0.000000</td>\n",
       "      <td>3.000000</td>\n",
       "      <td>28.000000</td>\n",
       "      <td>0.000000</td>\n",
       "      <td>0.000000</td>\n",
       "      <td>14.454200</td>\n",
       "    </tr>\n",
       "    <tr>\n",
       "      <th>75%</th>\n",
       "      <td>668.500000</td>\n",
       "      <td>1.000000</td>\n",
       "      <td>3.000000</td>\n",
       "      <td>38.000000</td>\n",
       "      <td>1.000000</td>\n",
       "      <td>0.000000</td>\n",
       "      <td>31.000000</td>\n",
       "    </tr>\n",
       "    <tr>\n",
       "      <th>max</th>\n",
       "      <td>891.000000</td>\n",
       "      <td>1.000000</td>\n",
       "      <td>3.000000</td>\n",
       "      <td>80.000000</td>\n",
       "      <td>8.000000</td>\n",
       "      <td>6.000000</td>\n",
       "      <td>512.329200</td>\n",
       "    </tr>\n",
       "  </tbody>\n",
       "</table>\n",
       "</div>"
      ],
      "text/plain": [
       "       PassengerId    Survived      Pclass         Age       SibSp  \\\n",
       "count   891.000000  891.000000  891.000000  714.000000  891.000000   \n",
       "mean    446.000000    0.383838    2.308642   29.699118    0.523008   \n",
       "std     257.353842    0.486592    0.836071   14.526497    1.102743   \n",
       "min       1.000000    0.000000    1.000000    0.420000    0.000000   \n",
       "25%     223.500000    0.000000    2.000000   20.125000    0.000000   \n",
       "50%     446.000000    0.000000    3.000000   28.000000    0.000000   \n",
       "75%     668.500000    1.000000    3.000000   38.000000    1.000000   \n",
       "max     891.000000    1.000000    3.000000   80.000000    8.000000   \n",
       "\n",
       "            Parch        Fare  \n",
       "count  891.000000  891.000000  \n",
       "mean     0.381594   32.204208  \n",
       "std      0.806057   49.693429  \n",
       "min      0.000000    0.000000  \n",
       "25%      0.000000    7.910400  \n",
       "50%      0.000000   14.454200  \n",
       "75%      0.000000   31.000000  \n",
       "max      6.000000  512.329200  "
      ]
     },
     "execution_count": 8,
     "metadata": {},
     "output_type": "execute_result"
    }
   ],
   "source": [
    "train_data.describe()"
   ]
  },
  {
   "cell_type": "code",
   "execution_count": 9,
   "metadata": {
    "execution": {
     "iopub.execute_input": "2021-01-22T01:41:53.197727Z",
     "iopub.status.busy": "2021-01-22T01:41:53.197106Z",
     "iopub.status.idle": "2021-01-22T01:41:53.236216Z",
     "shell.execute_reply": "2021-01-22T01:41:53.236716Z"
    },
    "papermill": {
     "duration": 0.07651,
     "end_time": "2021-01-22T01:41:53.236855",
     "exception": false,
     "start_time": "2021-01-22T01:41:53.160345",
     "status": "completed"
    },
    "tags": []
   },
   "outputs": [
    {
     "data": {
      "text/html": [
       "<div>\n",
       "<style scoped>\n",
       "    .dataframe tbody tr th:only-of-type {\n",
       "        vertical-align: middle;\n",
       "    }\n",
       "\n",
       "    .dataframe tbody tr th {\n",
       "        vertical-align: top;\n",
       "    }\n",
       "\n",
       "    .dataframe thead th {\n",
       "        text-align: right;\n",
       "    }\n",
       "</style>\n",
       "<table border=\"1\" class=\"dataframe\">\n",
       "  <thead>\n",
       "    <tr style=\"text-align: right;\">\n",
       "      <th></th>\n",
       "      <th>Name</th>\n",
       "      <th>Sex</th>\n",
       "      <th>Ticket</th>\n",
       "      <th>Cabin</th>\n",
       "      <th>Embarked</th>\n",
       "    </tr>\n",
       "  </thead>\n",
       "  <tbody>\n",
       "    <tr>\n",
       "      <th>count</th>\n",
       "      <td>891</td>\n",
       "      <td>891</td>\n",
       "      <td>891</td>\n",
       "      <td>204</td>\n",
       "      <td>889</td>\n",
       "    </tr>\n",
       "    <tr>\n",
       "      <th>unique</th>\n",
       "      <td>891</td>\n",
       "      <td>2</td>\n",
       "      <td>681</td>\n",
       "      <td>147</td>\n",
       "      <td>3</td>\n",
       "    </tr>\n",
       "    <tr>\n",
       "      <th>top</th>\n",
       "      <td>Gustafsson, Mr. Johan Birger</td>\n",
       "      <td>male</td>\n",
       "      <td>347082</td>\n",
       "      <td>G6</td>\n",
       "      <td>S</td>\n",
       "    </tr>\n",
       "    <tr>\n",
       "      <th>freq</th>\n",
       "      <td>1</td>\n",
       "      <td>577</td>\n",
       "      <td>7</td>\n",
       "      <td>4</td>\n",
       "      <td>644</td>\n",
       "    </tr>\n",
       "  </tbody>\n",
       "</table>\n",
       "</div>"
      ],
      "text/plain": [
       "                                Name   Sex  Ticket Cabin Embarked\n",
       "count                            891   891     891   204      889\n",
       "unique                           891     2     681   147        3\n",
       "top     Gustafsson, Mr. Johan Birger  male  347082    G6        S\n",
       "freq                               1   577       7     4      644"
      ]
     },
     "execution_count": 9,
     "metadata": {},
     "output_type": "execute_result"
    }
   ],
   "source": [
    "train_data.describe(include=['O'])"
   ]
  },
  {
   "cell_type": "code",
   "execution_count": 10,
   "metadata": {
    "execution": {
     "iopub.execute_input": "2021-01-22T01:41:53.294391Z",
     "iopub.status.busy": "2021-01-22T01:41:53.293829Z",
     "iopub.status.idle": "2021-01-22T01:41:53.298593Z",
     "shell.execute_reply": "2021-01-22T01:41:53.299037Z"
    },
    "papermill": {
     "duration": 0.034904,
     "end_time": "2021-01-22T01:41:53.299166",
     "exception": false,
     "start_time": "2021-01-22T01:41:53.264262",
     "status": "completed"
    },
    "tags": []
   },
   "outputs": [],
   "source": [
    "train_data = train_data.drop(\"PassengerId\", axis=1)"
   ]
  },
  {
   "cell_type": "code",
   "execution_count": 11,
   "metadata": {
    "execution": {
     "iopub.execute_input": "2021-01-22T01:41:53.356675Z",
     "iopub.status.busy": "2021-01-22T01:41:53.356039Z",
     "iopub.status.idle": "2021-01-22T01:41:53.374119Z",
     "shell.execute_reply": "2021-01-22T01:41:53.373621Z"
    },
    "papermill": {
     "duration": 0.04785,
     "end_time": "2021-01-22T01:41:53.374234",
     "exception": false,
     "start_time": "2021-01-22T01:41:53.326384",
     "status": "completed"
    },
    "tags": []
   },
   "outputs": [
    {
     "data": {
      "text/html": [
       "<div>\n",
       "<style scoped>\n",
       "    .dataframe tbody tr th:only-of-type {\n",
       "        vertical-align: middle;\n",
       "    }\n",
       "\n",
       "    .dataframe tbody tr th {\n",
       "        vertical-align: top;\n",
       "    }\n",
       "\n",
       "    .dataframe thead th {\n",
       "        text-align: right;\n",
       "    }\n",
       "</style>\n",
       "<table border=\"1\" class=\"dataframe\">\n",
       "  <thead>\n",
       "    <tr style=\"text-align: right;\">\n",
       "      <th></th>\n",
       "      <th>PassengerId</th>\n",
       "      <th>Pclass</th>\n",
       "      <th>Name</th>\n",
       "      <th>Sex</th>\n",
       "      <th>Age</th>\n",
       "      <th>SibSp</th>\n",
       "      <th>Parch</th>\n",
       "      <th>Ticket</th>\n",
       "      <th>Fare</th>\n",
       "      <th>Cabin</th>\n",
       "      <th>Embarked</th>\n",
       "    </tr>\n",
       "  </thead>\n",
       "  <tbody>\n",
       "    <tr>\n",
       "      <th>0</th>\n",
       "      <td>892</td>\n",
       "      <td>3</td>\n",
       "      <td>Kelly, Mr. James</td>\n",
       "      <td>0</td>\n",
       "      <td>34.5</td>\n",
       "      <td>0</td>\n",
       "      <td>0</td>\n",
       "      <td>330911</td>\n",
       "      <td>7.8292</td>\n",
       "      <td>NaN</td>\n",
       "      <td>Q</td>\n",
       "    </tr>\n",
       "    <tr>\n",
       "      <th>1</th>\n",
       "      <td>893</td>\n",
       "      <td>3</td>\n",
       "      <td>Wilkes, Mrs. James (Ellen Needs)</td>\n",
       "      <td>1</td>\n",
       "      <td>47.0</td>\n",
       "      <td>1</td>\n",
       "      <td>0</td>\n",
       "      <td>363272</td>\n",
       "      <td>7.0000</td>\n",
       "      <td>NaN</td>\n",
       "      <td>S</td>\n",
       "    </tr>\n",
       "    <tr>\n",
       "      <th>2</th>\n",
       "      <td>894</td>\n",
       "      <td>2</td>\n",
       "      <td>Myles, Mr. Thomas Francis</td>\n",
       "      <td>0</td>\n",
       "      <td>62.0</td>\n",
       "      <td>0</td>\n",
       "      <td>0</td>\n",
       "      <td>240276</td>\n",
       "      <td>9.6875</td>\n",
       "      <td>NaN</td>\n",
       "      <td>Q</td>\n",
       "    </tr>\n",
       "    <tr>\n",
       "      <th>3</th>\n",
       "      <td>895</td>\n",
       "      <td>3</td>\n",
       "      <td>Wirz, Mr. Albert</td>\n",
       "      <td>0</td>\n",
       "      <td>27.0</td>\n",
       "      <td>0</td>\n",
       "      <td>0</td>\n",
       "      <td>315154</td>\n",
       "      <td>8.6625</td>\n",
       "      <td>NaN</td>\n",
       "      <td>S</td>\n",
       "    </tr>\n",
       "    <tr>\n",
       "      <th>4</th>\n",
       "      <td>896</td>\n",
       "      <td>3</td>\n",
       "      <td>Hirvonen, Mrs. Alexander (Helga E Lindqvist)</td>\n",
       "      <td>1</td>\n",
       "      <td>22.0</td>\n",
       "      <td>1</td>\n",
       "      <td>1</td>\n",
       "      <td>3101298</td>\n",
       "      <td>12.2875</td>\n",
       "      <td>NaN</td>\n",
       "      <td>S</td>\n",
       "    </tr>\n",
       "  </tbody>\n",
       "</table>\n",
       "</div>"
      ],
      "text/plain": [
       "   PassengerId  Pclass                                          Name  Sex  \\\n",
       "0          892       3                              Kelly, Mr. James    0   \n",
       "1          893       3              Wilkes, Mrs. James (Ellen Needs)    1   \n",
       "2          894       2                     Myles, Mr. Thomas Francis    0   \n",
       "3          895       3                              Wirz, Mr. Albert    0   \n",
       "4          896       3  Hirvonen, Mrs. Alexander (Helga E Lindqvist)    1   \n",
       "\n",
       "    Age  SibSp  Parch   Ticket     Fare Cabin Embarked  \n",
       "0  34.5      0      0   330911   7.8292   NaN        Q  \n",
       "1  47.0      1      0   363272   7.0000   NaN        S  \n",
       "2  62.0      0      0   240276   9.6875   NaN        Q  \n",
       "3  27.0      0      0   315154   8.6625   NaN        S  \n",
       "4  22.0      1      1  3101298  12.2875   NaN        S  "
      ]
     },
     "execution_count": 11,
     "metadata": {},
     "output_type": "execute_result"
    }
   ],
   "source": [
    "train_data['Sex'] = train_data['Sex'].map({'male':0,'female':1})\n",
    "test_data['Sex'] = test_data['Sex'].map({'male':0,'female':1})\n",
    "train_data.head()\n",
    "test_data.head()"
   ]
  },
  {
   "cell_type": "code",
   "execution_count": 12,
   "metadata": {
    "execution": {
     "iopub.execute_input": "2021-01-22T01:41:53.434643Z",
     "iopub.status.busy": "2021-01-22T01:41:53.434024Z",
     "iopub.status.idle": "2021-01-22T01:41:53.437368Z",
     "shell.execute_reply": "2021-01-22T01:41:53.436707Z"
    },
    "papermill": {
     "duration": 0.035764,
     "end_time": "2021-01-22T01:41:53.437521",
     "exception": false,
     "start_time": "2021-01-22T01:41:53.401757",
     "status": "completed"
    },
    "tags": []
   },
   "outputs": [],
   "source": [
    "#We don't really care about the name, but their status\n",
    "def extract_status(name):\n",
    "    status = name.map(lambda n : n.split(',')[1].split('.')[0].replace(' ',''))\n",
    "    return status"
   ]
  },
  {
   "cell_type": "code",
   "execution_count": 13,
   "metadata": {
    "execution": {
     "iopub.execute_input": "2021-01-22T01:41:53.498762Z",
     "iopub.status.busy": "2021-01-22T01:41:53.498047Z",
     "iopub.status.idle": "2021-01-22T01:41:53.505628Z",
     "shell.execute_reply": "2021-01-22T01:41:53.506095Z"
    },
    "papermill": {
     "duration": 0.038958,
     "end_time": "2021-01-22T01:41:53.506239",
     "exception": false,
     "start_time": "2021-01-22T01:41:53.467281",
     "status": "completed"
    },
    "tags": []
   },
   "outputs": [
    {
     "data": {
      "text/plain": [
       "array(['Mr', 'Mrs', 'Miss', 'Master', 'Don', 'Rev', 'Dr', 'Mme', 'Ms',\n",
       "       'Major', 'Lady', 'Sir', 'Mlle', 'Col', 'Capt', 'theCountess',\n",
       "       'Jonkheer'], dtype=object)"
      ]
     },
     "execution_count": 13,
     "metadata": {},
     "output_type": "execute_result"
    }
   ],
   "source": [
    "train_data['Status'] = extract_status(train_data['Name'])\n",
    "train_data['Status'].unique()"
   ]
  },
  {
   "cell_type": "code",
   "execution_count": 14,
   "metadata": {
    "execution": {
     "iopub.execute_input": "2021-01-22T01:41:53.570404Z",
     "iopub.status.busy": "2021-01-22T01:41:53.569813Z",
     "iopub.status.idle": "2021-01-22T01:41:53.572492Z",
     "shell.execute_reply": "2021-01-22T01:41:53.572968Z"
    },
    "papermill": {
     "duration": 0.038522,
     "end_time": "2021-01-22T01:41:53.573115",
     "exception": false,
     "start_time": "2021-01-22T01:41:53.534593",
     "status": "completed"
    },
    "tags": []
   },
   "outputs": [
    {
     "data": {
      "text/plain": [
       "array(['Mr', 'Mrs', 'Miss', 'Master', 'Ms', 'Col', 'Rev', 'Dr', 'Dona'],\n",
       "      dtype=object)"
      ]
     },
     "execution_count": 14,
     "metadata": {},
     "output_type": "execute_result"
    }
   ],
   "source": [
    "test_data['Status'] = extract_status(test_data['Name'])\n",
    "test_data['Status'].unique()"
   ]
  },
  {
   "cell_type": "code",
   "execution_count": 15,
   "metadata": {
    "execution": {
     "iopub.execute_input": "2021-01-22T01:41:53.637000Z",
     "iopub.status.busy": "2021-01-22T01:41:53.636308Z",
     "iopub.status.idle": "2021-01-22T01:41:53.643341Z",
     "shell.execute_reply": "2021-01-22T01:41:53.642868Z"
    },
    "papermill": {
     "duration": 0.041279,
     "end_time": "2021-01-22T01:41:53.643485",
     "exception": false,
     "start_time": "2021-01-22T01:41:53.602206",
     "status": "completed"
    },
    "tags": []
   },
   "outputs": [],
   "source": [
    "#Now we can drop the column Name\n",
    "train_data = train_data.drop(columns = ['Name'])\n",
    "test_data = test_data.drop(columns = ['Name'])"
   ]
  },
  {
   "cell_type": "code",
   "execution_count": 16,
   "metadata": {
    "execution": {
     "iopub.execute_input": "2021-01-22T01:41:53.706679Z",
     "iopub.status.busy": "2021-01-22T01:41:53.706008Z",
     "iopub.status.idle": "2021-01-22T01:41:53.711850Z",
     "shell.execute_reply": "2021-01-22T01:41:53.712318Z"
    },
    "papermill": {
     "duration": 0.039811,
     "end_time": "2021-01-22T01:41:53.712485",
     "exception": false,
     "start_time": "2021-01-22T01:41:53.672674",
     "status": "completed"
    },
    "tags": []
   },
   "outputs": [],
   "source": [
    "# We have too much categories for status, let's do a reduction\n",
    "status_dict = {\n",
    "    'Mr': 'Mr',\n",
    "    'Miss': 'Woman',\n",
    "    'Mrs': 'Woman',\n",
    "    'Master': 'Master',\n",
    "    'Dr': 'Rare',\n",
    "    'Rev': 'Rare',\n",
    "    'Major': 'Rare',\n",
    "    'Col': 'Rare',\n",
    "    'Mlle': 'Woman',\n",
    "    'theCountess': 'Rare',\n",
    "    'Don': 'Rare',\n",
    "    'Mme': 'Woman',\n",
    "    'Jonkheer': 'Rare',\n",
    "    'Sir': 'Rare',\n",
    "    'Ms': 'Woman',\n",
    "    'Lady': 'Rare',\n",
    "    'Capt': 'Rare',\n",
    "    'Dona': 'Rare'\n",
    "}"
   ]
  },
  {
   "cell_type": "code",
   "execution_count": 17,
   "metadata": {
    "execution": {
     "iopub.execute_input": "2021-01-22T01:41:53.775893Z",
     "iopub.status.busy": "2021-01-22T01:41:53.775285Z",
     "iopub.status.idle": "2021-01-22T01:41:53.778819Z",
     "shell.execute_reply": "2021-01-22T01:41:53.778227Z"
    },
    "papermill": {
     "duration": 0.037388,
     "end_time": "2021-01-22T01:41:53.778942",
     "exception": false,
     "start_time": "2021-01-22T01:41:53.741554",
     "status": "completed"
    },
    "tags": []
   },
   "outputs": [],
   "source": [
    "def reduce_status(status):\n",
    "    new_status = status.map(lambda s : status_dict[s])\n",
    "    return new_status"
   ]
  },
  {
   "cell_type": "code",
   "execution_count": 18,
   "metadata": {
    "execution": {
     "iopub.execute_input": "2021-01-22T01:41:53.845706Z",
     "iopub.status.busy": "2021-01-22T01:41:53.845050Z",
     "iopub.status.idle": "2021-01-22T01:41:53.848731Z",
     "shell.execute_reply": "2021-01-22T01:41:53.849199Z"
    },
    "papermill": {
     "duration": 0.041321,
     "end_time": "2021-01-22T01:41:53.849346",
     "exception": false,
     "start_time": "2021-01-22T01:41:53.808025",
     "status": "completed"
    },
    "tags": []
   },
   "outputs": [
    {
     "name": "stdout",
     "output_type": "stream",
     "text": [
      "['Mr' 'Woman' 'Master' 'Rare']\n",
      "['Mr' 'Woman' 'Master' 'Rare']\n"
     ]
    }
   ],
   "source": [
    "train_data['Status'] = reduce_status(train_data['Status'])\n",
    "test_data['Status'] = reduce_status(test_data['Status'])\n",
    "print(train_data['Status'].unique())\n",
    "print(test_data['Status'].unique())"
   ]
  },
  {
   "cell_type": "code",
   "execution_count": 19,
   "metadata": {
    "execution": {
     "iopub.execute_input": "2021-01-22T01:41:53.922822Z",
     "iopub.status.busy": "2021-01-22T01:41:53.921713Z",
     "iopub.status.idle": "2021-01-22T01:41:53.924921Z",
     "shell.execute_reply": "2021-01-22T01:41:53.924389Z"
    },
    "papermill": {
     "duration": 0.045825,
     "end_time": "2021-01-22T01:41:53.925029",
     "exception": false,
     "start_time": "2021-01-22T01:41:53.879204",
     "status": "completed"
    },
    "tags": []
   },
   "outputs": [],
   "source": [
    "def b_or_f(data):\n",
    "    boy = (data.Status == 'Master') | ((data.Sex == 0) & (data.Age<13))\n",
    "    female = data.Sex == 1\n",
    "    boy_or_female = boy | female\n",
    "    data[\"BorF\"] = boy_or_female.map(lambda x : 1 if x else 0)\n",
    "    return data[\"BorF\"]\n",
    "train_data[\"BorF\"] = b_or_f(train_data)\n",
    "test_data[\"BorF\"] = b_or_f(test_data)"
   ]
  },
  {
   "cell_type": "code",
   "execution_count": 20,
   "metadata": {
    "execution": {
     "iopub.execute_input": "2021-01-22T01:41:53.992516Z",
     "iopub.status.busy": "2021-01-22T01:41:53.991459Z",
     "iopub.status.idle": "2021-01-22T01:41:54.011678Z",
     "shell.execute_reply": "2021-01-22T01:41:54.012103Z"
    },
    "papermill": {
     "duration": 0.057541,
     "end_time": "2021-01-22T01:41:54.012246",
     "exception": false,
     "start_time": "2021-01-22T01:41:53.954705",
     "status": "completed"
    },
    "tags": []
   },
   "outputs": [
    {
     "data": {
      "text/html": [
       "<div>\n",
       "<style scoped>\n",
       "    .dataframe tbody tr th:only-of-type {\n",
       "        vertical-align: middle;\n",
       "    }\n",
       "\n",
       "    .dataframe tbody tr th {\n",
       "        vertical-align: top;\n",
       "    }\n",
       "\n",
       "    .dataframe thead th {\n",
       "        text-align: right;\n",
       "    }\n",
       "</style>\n",
       "<table border=\"1\" class=\"dataframe\">\n",
       "  <thead>\n",
       "    <tr style=\"text-align: right;\">\n",
       "      <th></th>\n",
       "      <th>Pclass</th>\n",
       "      <th>Sex</th>\n",
       "      <th>Status</th>\n",
       "      <th>Age</th>\n",
       "    </tr>\n",
       "  </thead>\n",
       "  <tbody>\n",
       "    <tr>\n",
       "      <th>0</th>\n",
       "      <td>1</td>\n",
       "      <td>0</td>\n",
       "      <td>Master</td>\n",
       "      <td>6</td>\n",
       "    </tr>\n",
       "    <tr>\n",
       "      <th>1</th>\n",
       "      <td>1</td>\n",
       "      <td>0</td>\n",
       "      <td>Mr</td>\n",
       "      <td>42</td>\n",
       "    </tr>\n",
       "    <tr>\n",
       "      <th>2</th>\n",
       "      <td>1</td>\n",
       "      <td>0</td>\n",
       "      <td>Rare</td>\n",
       "      <td>49</td>\n",
       "    </tr>\n",
       "    <tr>\n",
       "      <th>3</th>\n",
       "      <td>1</td>\n",
       "      <td>1</td>\n",
       "      <td>Rare</td>\n",
       "      <td>44</td>\n",
       "    </tr>\n",
       "    <tr>\n",
       "      <th>4</th>\n",
       "      <td>1</td>\n",
       "      <td>1</td>\n",
       "      <td>Woman</td>\n",
       "      <td>35</td>\n",
       "    </tr>\n",
       "    <tr>\n",
       "      <th>5</th>\n",
       "      <td>2</td>\n",
       "      <td>0</td>\n",
       "      <td>Master</td>\n",
       "      <td>3</td>\n",
       "    </tr>\n",
       "    <tr>\n",
       "      <th>6</th>\n",
       "      <td>2</td>\n",
       "      <td>0</td>\n",
       "      <td>Mr</td>\n",
       "      <td>33</td>\n",
       "    </tr>\n",
       "    <tr>\n",
       "      <th>7</th>\n",
       "      <td>2</td>\n",
       "      <td>0</td>\n",
       "      <td>Rare</td>\n",
       "      <td>42</td>\n",
       "    </tr>\n",
       "    <tr>\n",
       "      <th>8</th>\n",
       "      <td>2</td>\n",
       "      <td>1</td>\n",
       "      <td>Woman</td>\n",
       "      <td>29</td>\n",
       "    </tr>\n",
       "    <tr>\n",
       "      <th>9</th>\n",
       "      <td>3</td>\n",
       "      <td>0</td>\n",
       "      <td>Master</td>\n",
       "      <td>6</td>\n",
       "    </tr>\n",
       "    <tr>\n",
       "      <th>10</th>\n",
       "      <td>3</td>\n",
       "      <td>0</td>\n",
       "      <td>Mr</td>\n",
       "      <td>29</td>\n",
       "    </tr>\n",
       "    <tr>\n",
       "      <th>11</th>\n",
       "      <td>3</td>\n",
       "      <td>1</td>\n",
       "      <td>Woman</td>\n",
       "      <td>22</td>\n",
       "    </tr>\n",
       "  </tbody>\n",
       "</table>\n",
       "</div>"
      ],
      "text/plain": [
       "    Pclass  Sex  Status  Age\n",
       "0        1    0  Master    6\n",
       "1        1    0      Mr   42\n",
       "2        1    0    Rare   49\n",
       "3        1    1    Rare   44\n",
       "4        1    1   Woman   35\n",
       "5        2    0  Master    3\n",
       "6        2    0      Mr   33\n",
       "7        2    0    Rare   42\n",
       "8        2    1   Woman   29\n",
       "9        3    0  Master    6\n",
       "10       3    0      Mr   29\n",
       "11       3    1   Woman   22"
      ]
     },
     "execution_count": 20,
     "metadata": {},
     "output_type": "execute_result"
    }
   ],
   "source": [
    "# Now we try to correct the missing values in both datasets\n",
    "reference_age = train_data.groupby(['Pclass','Sex','Status']).mean().reset_index()[['Pclass','Sex','Status','Age']]\n",
    "reference_age['Age'] = reference_age['Age'].map(lambda a : math.ceil(a))\n",
    "reference_age"
   ]
  },
  {
   "cell_type": "code",
   "execution_count": 21,
   "metadata": {
    "execution": {
     "iopub.execute_input": "2021-01-22T01:41:54.078213Z",
     "iopub.status.busy": "2021-01-22T01:41:54.077562Z",
     "iopub.status.idle": "2021-01-22T01:41:54.080552Z",
     "shell.execute_reply": "2021-01-22T01:41:54.080034Z"
    },
    "papermill": {
     "duration": 0.038469,
     "end_time": "2021-01-22T01:41:54.080731",
     "exception": false,
     "start_time": "2021-01-22T01:41:54.042262",
     "status": "completed"
    },
    "tags": []
   },
   "outputs": [],
   "source": [
    "def correct_data(r,reference,var):\n",
    "    return reference[(reference['Pclass']==r['Pclass']) & \n",
    "                    (reference['Status']==r['Status']) &\n",
    "                    (reference['Sex']==r['Sex'])][var].values[0]"
   ]
  },
  {
   "cell_type": "code",
   "execution_count": 22,
   "metadata": {
    "execution": {
     "iopub.execute_input": "2021-01-22T01:41:54.150769Z",
     "iopub.status.busy": "2021-01-22T01:41:54.149746Z",
     "iopub.status.idle": "2021-01-22T01:41:54.451867Z",
     "shell.execute_reply": "2021-01-22T01:41:54.449943Z"
    },
    "papermill": {
     "duration": 0.339351,
     "end_time": "2021-01-22T01:41:54.452253",
     "exception": false,
     "start_time": "2021-01-22T01:41:54.112902",
     "status": "completed"
    },
    "tags": []
   },
   "outputs": [],
   "source": [
    "train_data['Age'] = train_data.apply(lambda r : correct_data(r,reference_age,'Age') if np.isnan(r['Age']) else r['Age'], axis=1 )\n",
    "test_data['Age'] = test_data.apply(lambda r : correct_data(r,reference_age,'Age') if np.isnan(r['Age']) else r['Age'], axis=1 )"
   ]
  },
  {
   "cell_type": "code",
   "execution_count": 23,
   "metadata": {
    "execution": {
     "iopub.execute_input": "2021-01-22T01:41:54.529657Z",
     "iopub.status.busy": "2021-01-22T01:41:54.528715Z",
     "iopub.status.idle": "2021-01-22T01:41:54.544037Z",
     "shell.execute_reply": "2021-01-22T01:41:54.543413Z"
    },
    "papermill": {
     "duration": 0.052374,
     "end_time": "2021-01-22T01:41:54.544144",
     "exception": false,
     "start_time": "2021-01-22T01:41:54.491770",
     "status": "completed"
    },
    "tags": []
   },
   "outputs": [
    {
     "data": {
      "text/html": [
       "<div>\n",
       "<style scoped>\n",
       "    .dataframe tbody tr th:only-of-type {\n",
       "        vertical-align: middle;\n",
       "    }\n",
       "\n",
       "    .dataframe tbody tr th {\n",
       "        vertical-align: top;\n",
       "    }\n",
       "\n",
       "    .dataframe thead th {\n",
       "        text-align: right;\n",
       "    }\n",
       "</style>\n",
       "<table border=\"1\" class=\"dataframe\">\n",
       "  <thead>\n",
       "    <tr style=\"text-align: right;\">\n",
       "      <th></th>\n",
       "      <th>Pclass</th>\n",
       "      <th>Sex</th>\n",
       "      <th>Status</th>\n",
       "      <th>Fare</th>\n",
       "    </tr>\n",
       "  </thead>\n",
       "  <tbody>\n",
       "    <tr>\n",
       "      <th>0</th>\n",
       "      <td>1</td>\n",
       "      <td>0</td>\n",
       "      <td>Master</td>\n",
       "      <td>117.802767</td>\n",
       "    </tr>\n",
       "    <tr>\n",
       "      <th>1</th>\n",
       "      <td>1</td>\n",
       "      <td>0</td>\n",
       "      <td>Mr</td>\n",
       "      <td>68.034385</td>\n",
       "    </tr>\n",
       "    <tr>\n",
       "      <th>2</th>\n",
       "      <td>1</td>\n",
       "      <td>0</td>\n",
       "      <td>Rare</td>\n",
       "      <td>47.375000</td>\n",
       "    </tr>\n",
       "    <tr>\n",
       "      <th>3</th>\n",
       "      <td>1</td>\n",
       "      <td>1</td>\n",
       "      <td>Rare</td>\n",
       "      <td>50.676400</td>\n",
       "    </tr>\n",
       "    <tr>\n",
       "      <th>4</th>\n",
       "      <td>1</td>\n",
       "      <td>1</td>\n",
       "      <td>Woman</td>\n",
       "      <td>107.953800</td>\n",
       "    </tr>\n",
       "    <tr>\n",
       "      <th>5</th>\n",
       "      <td>2</td>\n",
       "      <td>0</td>\n",
       "      <td>Master</td>\n",
       "      <td>27.306022</td>\n",
       "    </tr>\n",
       "    <tr>\n",
       "      <th>6</th>\n",
       "      <td>2</td>\n",
       "      <td>0</td>\n",
       "      <td>Mr</td>\n",
       "      <td>19.252564</td>\n",
       "    </tr>\n",
       "    <tr>\n",
       "      <th>7</th>\n",
       "      <td>2</td>\n",
       "      <td>0</td>\n",
       "      <td>Rare</td>\n",
       "      <td>16.796875</td>\n",
       "    </tr>\n",
       "    <tr>\n",
       "      <th>8</th>\n",
       "      <td>2</td>\n",
       "      <td>1</td>\n",
       "      <td>Woman</td>\n",
       "      <td>21.970121</td>\n",
       "    </tr>\n",
       "    <tr>\n",
       "      <th>9</th>\n",
       "      <td>3</td>\n",
       "      <td>0</td>\n",
       "      <td>Master</td>\n",
       "      <td>28.177232</td>\n",
       "    </tr>\n",
       "    <tr>\n",
       "      <th>10</th>\n",
       "      <td>3</td>\n",
       "      <td>0</td>\n",
       "      <td>Mr</td>\n",
       "      <td>11.299762</td>\n",
       "    </tr>\n",
       "    <tr>\n",
       "      <th>11</th>\n",
       "      <td>3</td>\n",
       "      <td>1</td>\n",
       "      <td>Woman</td>\n",
       "      <td>16.118810</td>\n",
       "    </tr>\n",
       "  </tbody>\n",
       "</table>\n",
       "</div>"
      ],
      "text/plain": [
       "    Pclass  Sex  Status        Fare\n",
       "0        1    0  Master  117.802767\n",
       "1        1    0      Mr   68.034385\n",
       "2        1    0    Rare   47.375000\n",
       "3        1    1    Rare   50.676400\n",
       "4        1    1   Woman  107.953800\n",
       "5        2    0  Master   27.306022\n",
       "6        2    0      Mr   19.252564\n",
       "7        2    0    Rare   16.796875\n",
       "8        2    1   Woman   21.970121\n",
       "9        3    0  Master   28.177232\n",
       "10       3    0      Mr   11.299762\n",
       "11       3    1   Woman   16.118810"
      ]
     },
     "execution_count": 23,
     "metadata": {},
     "output_type": "execute_result"
    }
   ],
   "source": [
    "reference_fare = train_data.groupby(['Pclass','Sex','Status']).mean().reset_index()[['Pclass','Sex','Status','Fare']]\n",
    "reference_fare"
   ]
  },
  {
   "cell_type": "code",
   "execution_count": 24,
   "metadata": {
    "execution": {
     "iopub.execute_input": "2021-01-22T01:41:54.634331Z",
     "iopub.status.busy": "2021-01-22T01:41:54.633716Z",
     "iopub.status.idle": "2021-01-22T01:41:54.637175Z",
     "shell.execute_reply": "2021-01-22T01:41:54.636696Z"
    },
    "papermill": {
     "duration": 0.062264,
     "end_time": "2021-01-22T01:41:54.637287",
     "exception": false,
     "start_time": "2021-01-22T01:41:54.575023",
     "status": "completed"
    },
    "tags": []
   },
   "outputs": [],
   "source": [
    "train_data['Fare'] = train_data.apply(lambda r : correct_data(r,reference_fare,'Fare') if np.isnan(r['Fare']) else r['Fare'], axis=1 )\n",
    "test_data['Fare'] = test_data.apply(lambda r : correct_data(r,reference_fare,'Fare') if np.isnan(r['Fare']) else r['Fare'], axis=1 )"
   ]
  },
  {
   "cell_type": "code",
   "execution_count": 25,
   "metadata": {
    "execution": {
     "iopub.execute_input": "2021-01-22T01:41:54.706496Z",
     "iopub.status.busy": "2021-01-22T01:41:54.705875Z",
     "iopub.status.idle": "2021-01-22T01:41:54.708401Z",
     "shell.execute_reply": "2021-01-22T01:41:54.708985Z"
    },
    "papermill": {
     "duration": 0.04035,
     "end_time": "2021-01-22T01:41:54.709121",
     "exception": false,
     "start_time": "2021-01-22T01:41:54.668771",
     "status": "completed"
    },
    "tags": []
   },
   "outputs": [],
   "source": [
    "# S is the most frequent value of the variable Embarked, \n",
    "# so we gonna correct all missing values of Embarked by S\n",
    "train_data['Embarked'].fillna('S', inplace=True)"
   ]
  },
  {
   "cell_type": "code",
   "execution_count": 26,
   "metadata": {
    "execution": {
     "iopub.execute_input": "2021-01-22T01:41:54.773868Z",
     "iopub.status.busy": "2021-01-22T01:41:54.773286Z",
     "iopub.status.idle": "2021-01-22T01:41:54.780956Z",
     "shell.execute_reply": "2021-01-22T01:41:54.781509Z"
    },
    "papermill": {
     "duration": 0.041464,
     "end_time": "2021-01-22T01:41:54.781681",
     "exception": false,
     "start_time": "2021-01-22T01:41:54.740217",
     "status": "completed"
    },
    "tags": []
   },
   "outputs": [],
   "source": [
    "def fill_cabin(data):\n",
    "    data.fillna('U', inplace=True)\n",
    "    data = data.map(lambda c: c[0])\n",
    "    return data\n",
    "train_data['Cabin'] = fill_cabin(train_data['Cabin'])\n",
    "test_data['Cabin'] = fill_cabin(test_data['Cabin'])"
   ]
  },
  {
   "cell_type": "code",
   "execution_count": 27,
   "metadata": {
    "execution": {
     "iopub.execute_input": "2021-01-22T01:41:54.847285Z",
     "iopub.status.busy": "2021-01-22T01:41:54.846484Z",
     "iopub.status.idle": "2021-01-22T01:41:54.860213Z",
     "shell.execute_reply": "2021-01-22T01:41:54.860707Z"
    },
    "papermill": {
     "duration": 0.048214,
     "end_time": "2021-01-22T01:41:54.860845",
     "exception": false,
     "start_time": "2021-01-22T01:41:54.812631",
     "status": "completed"
    },
    "tags": []
   },
   "outputs": [
    {
     "data": {
      "text/html": [
       "<div>\n",
       "<style scoped>\n",
       "    .dataframe tbody tr th:only-of-type {\n",
       "        vertical-align: middle;\n",
       "    }\n",
       "\n",
       "    .dataframe tbody tr th {\n",
       "        vertical-align: top;\n",
       "    }\n",
       "\n",
       "    .dataframe thead th {\n",
       "        text-align: right;\n",
       "    }\n",
       "</style>\n",
       "<table border=\"1\" class=\"dataframe\">\n",
       "  <thead>\n",
       "    <tr style=\"text-align: right;\">\n",
       "      <th></th>\n",
       "      <th>Survived</th>\n",
       "      <th>Pclass</th>\n",
       "      <th>Sex</th>\n",
       "      <th>Age</th>\n",
       "      <th>SibSp</th>\n",
       "      <th>Parch</th>\n",
       "      <th>Ticket</th>\n",
       "      <th>Fare</th>\n",
       "      <th>Cabin</th>\n",
       "      <th>Embarked</th>\n",
       "      <th>Status</th>\n",
       "      <th>BorF</th>\n",
       "    </tr>\n",
       "  </thead>\n",
       "  <tbody>\n",
       "    <tr>\n",
       "      <th>0</th>\n",
       "      <td>0</td>\n",
       "      <td>3</td>\n",
       "      <td>0</td>\n",
       "      <td>22.0</td>\n",
       "      <td>1</td>\n",
       "      <td>0</td>\n",
       "      <td>A/5 21171</td>\n",
       "      <td>7.2500</td>\n",
       "      <td>U</td>\n",
       "      <td>S</td>\n",
       "      <td>Mr</td>\n",
       "      <td>0</td>\n",
       "    </tr>\n",
       "    <tr>\n",
       "      <th>1</th>\n",
       "      <td>1</td>\n",
       "      <td>1</td>\n",
       "      <td>1</td>\n",
       "      <td>38.0</td>\n",
       "      <td>1</td>\n",
       "      <td>0</td>\n",
       "      <td>PC 17599</td>\n",
       "      <td>71.2833</td>\n",
       "      <td>C</td>\n",
       "      <td>C</td>\n",
       "      <td>Woman</td>\n",
       "      <td>1</td>\n",
       "    </tr>\n",
       "    <tr>\n",
       "      <th>2</th>\n",
       "      <td>1</td>\n",
       "      <td>3</td>\n",
       "      <td>1</td>\n",
       "      <td>26.0</td>\n",
       "      <td>0</td>\n",
       "      <td>0</td>\n",
       "      <td>STON/O2. 3101282</td>\n",
       "      <td>7.9250</td>\n",
       "      <td>U</td>\n",
       "      <td>S</td>\n",
       "      <td>Woman</td>\n",
       "      <td>1</td>\n",
       "    </tr>\n",
       "    <tr>\n",
       "      <th>3</th>\n",
       "      <td>1</td>\n",
       "      <td>1</td>\n",
       "      <td>1</td>\n",
       "      <td>35.0</td>\n",
       "      <td>1</td>\n",
       "      <td>0</td>\n",
       "      <td>113803</td>\n",
       "      <td>53.1000</td>\n",
       "      <td>C</td>\n",
       "      <td>S</td>\n",
       "      <td>Woman</td>\n",
       "      <td>1</td>\n",
       "    </tr>\n",
       "    <tr>\n",
       "      <th>4</th>\n",
       "      <td>0</td>\n",
       "      <td>3</td>\n",
       "      <td>0</td>\n",
       "      <td>35.0</td>\n",
       "      <td>0</td>\n",
       "      <td>0</td>\n",
       "      <td>373450</td>\n",
       "      <td>8.0500</td>\n",
       "      <td>U</td>\n",
       "      <td>S</td>\n",
       "      <td>Mr</td>\n",
       "      <td>0</td>\n",
       "    </tr>\n",
       "  </tbody>\n",
       "</table>\n",
       "</div>"
      ],
      "text/plain": [
       "   Survived  Pclass  Sex   Age  SibSp  Parch            Ticket     Fare Cabin  \\\n",
       "0         0       3    0  22.0      1      0         A/5 21171   7.2500     U   \n",
       "1         1       1    1  38.0      1      0          PC 17599  71.2833     C   \n",
       "2         1       3    1  26.0      0      0  STON/O2. 3101282   7.9250     U   \n",
       "3         1       1    1  35.0      1      0            113803  53.1000     C   \n",
       "4         0       3    0  35.0      0      0            373450   8.0500     U   \n",
       "\n",
       "  Embarked Status  BorF  \n",
       "0        S     Mr     0  \n",
       "1        C  Woman     1  \n",
       "2        S  Woman     1  \n",
       "3        S  Woman     1  \n",
       "4        S     Mr     0  "
      ]
     },
     "execution_count": 27,
     "metadata": {},
     "output_type": "execute_result"
    }
   ],
   "source": [
    "train_data.head()"
   ]
  },
  {
   "cell_type": "code",
   "execution_count": 28,
   "metadata": {
    "execution": {
     "iopub.execute_input": "2021-01-22T01:41:54.929099Z",
     "iopub.status.busy": "2021-01-22T01:41:54.928469Z",
     "iopub.status.idle": "2021-01-22T01:41:54.938519Z",
     "shell.execute_reply": "2021-01-22T01:41:54.939056Z"
    },
    "papermill": {
     "duration": 0.046793,
     "end_time": "2021-01-22T01:41:54.939198",
     "exception": false,
     "start_time": "2021-01-22T01:41:54.892405",
     "status": "completed"
    },
    "tags": []
   },
   "outputs": [],
   "source": [
    "def cleanTicket(ticket):\n",
    "    #extract ticket prefix, if not 'XXX'\n",
    "    ticket = ticket.replace('.', '')\n",
    "    ticket = ticket.replace('/', '')\n",
    "    ticket = ticket.split()\n",
    "    ticket = map(lambda t : t.strip(), ticket)\n",
    "    ticket = list(filter(lambda t : not t.isdigit(), ticket))\n",
    "    if len(ticket) > 0:\n",
    "        return ticket[0]\n",
    "    else: \n",
    "        return 'XXX'\n",
    "train_data['Ticket'] = train_data['Ticket'].map(cleanTicket)\n",
    "test_data['Ticket'] = test_data['Ticket'].map(cleanTicket)"
   ]
  },
  {
   "cell_type": "code",
   "execution_count": 29,
   "metadata": {
    "execution": {
     "iopub.execute_input": "2021-01-22T01:41:55.005524Z",
     "iopub.status.busy": "2021-01-22T01:41:55.004960Z",
     "iopub.status.idle": "2021-01-22T01:41:55.010288Z",
     "shell.execute_reply": "2021-01-22T01:41:55.010861Z"
    },
    "papermill": {
     "duration": 0.040141,
     "end_time": "2021-01-22T01:41:55.010997",
     "exception": false,
     "start_time": "2021-01-22T01:41:54.970856",
     "status": "completed"
    },
    "tags": []
   },
   "outputs": [
    {
     "data": {
      "text/plain": [
       "array(['A5', 'PC', 'STONO2', 'XXX', 'PP', 'CA', 'SCParis', 'SCA4', 'A4',\n",
       "       'SP', 'SOC', 'WC', 'SOTONOQ', 'WEP', 'STONO', 'C', 'SCPARIS',\n",
       "       'SOP', 'Fa', 'LINE', 'FCC', 'SWPP', 'SCOW', 'PPP', 'SC', 'SCAH',\n",
       "       'AS', 'SOPP', 'FC', 'SOTONO2', 'CASOTON'], dtype=object)"
      ]
     },
     "execution_count": 29,
     "metadata": {},
     "output_type": "execute_result"
    }
   ],
   "source": [
    "train_data['Ticket'].unique()"
   ]
  },
  {
   "cell_type": "code",
   "execution_count": 30,
   "metadata": {
    "execution": {
     "iopub.execute_input": "2021-01-22T01:41:55.077539Z",
     "iopub.status.busy": "2021-01-22T01:41:55.077000Z",
     "iopub.status.idle": "2021-01-22T01:41:55.086195Z",
     "shell.execute_reply": "2021-01-22T01:41:55.085730Z"
    },
    "papermill": {
     "duration": 0.043468,
     "end_time": "2021-01-22T01:41:55.086298",
     "exception": false,
     "start_time": "2021-01-22T01:41:55.042830",
     "status": "completed"
    },
    "tags": []
   },
   "outputs": [
    {
     "name": "stdout",
     "output_type": "stream",
     "text": [
      "Survived    0\n",
      "Pclass      0\n",
      "Sex         0\n",
      "Age         0\n",
      "SibSp       0\n",
      "Parch       0\n",
      "Ticket      0\n",
      "Fare        0\n",
      "Cabin       0\n",
      "Embarked    0\n",
      "Status      0\n",
      "BorF        0\n",
      "dtype: int64\n",
      "PassengerId    0\n",
      "Pclass         0\n",
      "Sex            0\n",
      "Age            0\n",
      "SibSp          0\n",
      "Parch          0\n",
      "Ticket         0\n",
      "Fare           0\n",
      "Cabin          0\n",
      "Embarked       0\n",
      "Status         0\n",
      "BorF           0\n",
      "dtype: int64\n"
     ]
    }
   ],
   "source": [
    "#Look pretty clean now\n",
    "print(train_data.isnull().sum())\n",
    "print(test_data.isnull().sum())"
   ]
  },
  {
   "cell_type": "code",
   "execution_count": 31,
   "metadata": {
    "execution": {
     "iopub.execute_input": "2021-01-22T01:41:55.172701Z",
     "iopub.status.busy": "2021-01-22T01:41:55.171731Z",
     "iopub.status.idle": "2021-01-22T01:41:55.184627Z",
     "shell.execute_reply": "2021-01-22T01:41:55.184062Z"
    },
    "papermill": {
     "duration": 0.064562,
     "end_time": "2021-01-22T01:41:55.184747",
     "exception": false,
     "start_time": "2021-01-22T01:41:55.120185",
     "status": "completed"
    },
    "tags": []
   },
   "outputs": [
    {
     "data": {
      "text/html": [
       "<div>\n",
       "<style scoped>\n",
       "    .dataframe tbody tr th:only-of-type {\n",
       "        vertical-align: middle;\n",
       "    }\n",
       "\n",
       "    .dataframe tbody tr th {\n",
       "        vertical-align: top;\n",
       "    }\n",
       "\n",
       "    .dataframe thead th {\n",
       "        text-align: right;\n",
       "    }\n",
       "</style>\n",
       "<table border=\"1\" class=\"dataframe\">\n",
       "  <thead>\n",
       "    <tr style=\"text-align: right;\">\n",
       "      <th></th>\n",
       "      <th>Survived</th>\n",
       "      <th>Pclass</th>\n",
       "      <th>Sex</th>\n",
       "      <th>Age</th>\n",
       "      <th>SibSp</th>\n",
       "      <th>Parch</th>\n",
       "      <th>Ticket</th>\n",
       "      <th>Fare</th>\n",
       "      <th>Cabin</th>\n",
       "      <th>Embarked</th>\n",
       "      <th>Status</th>\n",
       "      <th>BorF</th>\n",
       "    </tr>\n",
       "  </thead>\n",
       "  <tbody>\n",
       "    <tr>\n",
       "      <th>0</th>\n",
       "      <td>0</td>\n",
       "      <td>3</td>\n",
       "      <td>0</td>\n",
       "      <td>22.0</td>\n",
       "      <td>1</td>\n",
       "      <td>0</td>\n",
       "      <td>A5</td>\n",
       "      <td>7.2500</td>\n",
       "      <td>U</td>\n",
       "      <td>S</td>\n",
       "      <td>Mr</td>\n",
       "      <td>0</td>\n",
       "    </tr>\n",
       "    <tr>\n",
       "      <th>1</th>\n",
       "      <td>1</td>\n",
       "      <td>1</td>\n",
       "      <td>1</td>\n",
       "      <td>38.0</td>\n",
       "      <td>1</td>\n",
       "      <td>0</td>\n",
       "      <td>PC</td>\n",
       "      <td>71.2833</td>\n",
       "      <td>C</td>\n",
       "      <td>C</td>\n",
       "      <td>Woman</td>\n",
       "      <td>1</td>\n",
       "    </tr>\n",
       "    <tr>\n",
       "      <th>2</th>\n",
       "      <td>1</td>\n",
       "      <td>3</td>\n",
       "      <td>1</td>\n",
       "      <td>26.0</td>\n",
       "      <td>0</td>\n",
       "      <td>0</td>\n",
       "      <td>STONO2</td>\n",
       "      <td>7.9250</td>\n",
       "      <td>U</td>\n",
       "      <td>S</td>\n",
       "      <td>Woman</td>\n",
       "      <td>1</td>\n",
       "    </tr>\n",
       "    <tr>\n",
       "      <th>3</th>\n",
       "      <td>1</td>\n",
       "      <td>1</td>\n",
       "      <td>1</td>\n",
       "      <td>35.0</td>\n",
       "      <td>1</td>\n",
       "      <td>0</td>\n",
       "      <td>XXX</td>\n",
       "      <td>53.1000</td>\n",
       "      <td>C</td>\n",
       "      <td>S</td>\n",
       "      <td>Woman</td>\n",
       "      <td>1</td>\n",
       "    </tr>\n",
       "    <tr>\n",
       "      <th>4</th>\n",
       "      <td>0</td>\n",
       "      <td>3</td>\n",
       "      <td>0</td>\n",
       "      <td>35.0</td>\n",
       "      <td>0</td>\n",
       "      <td>0</td>\n",
       "      <td>XXX</td>\n",
       "      <td>8.0500</td>\n",
       "      <td>U</td>\n",
       "      <td>S</td>\n",
       "      <td>Mr</td>\n",
       "      <td>0</td>\n",
       "    </tr>\n",
       "  </tbody>\n",
       "</table>\n",
       "</div>"
      ],
      "text/plain": [
       "   Survived  Pclass  Sex   Age  SibSp  Parch  Ticket     Fare Cabin Embarked  \\\n",
       "0         0       3    0  22.0      1      0      A5   7.2500     U        S   \n",
       "1         1       1    1  38.0      1      0      PC  71.2833     C        C   \n",
       "2         1       3    1  26.0      0      0  STONO2   7.9250     U        S   \n",
       "3         1       1    1  35.0      1      0     XXX  53.1000     C        S   \n",
       "4         0       3    0  35.0      0      0     XXX   8.0500     U        S   \n",
       "\n",
       "  Status  BorF  \n",
       "0     Mr     0  \n",
       "1  Woman     1  \n",
       "2  Woman     1  \n",
       "3  Woman     1  \n",
       "4     Mr     0  "
      ]
     },
     "execution_count": 31,
     "metadata": {},
     "output_type": "execute_result"
    }
   ],
   "source": [
    "train_data.head()"
   ]
  },
  {
   "cell_type": "code",
   "execution_count": 32,
   "metadata": {
    "execution": {
     "iopub.execute_input": "2021-01-22T01:41:55.275838Z",
     "iopub.status.busy": "2021-01-22T01:41:55.274769Z",
     "iopub.status.idle": "2021-01-22T01:41:55.279434Z",
     "shell.execute_reply": "2021-01-22T01:41:55.280054Z"
    },
    "papermill": {
     "duration": 0.05622,
     "end_time": "2021-01-22T01:41:55.280213",
     "exception": false,
     "start_time": "2021-01-22T01:41:55.223993",
     "status": "completed"
    },
    "tags": []
   },
   "outputs": [],
   "source": [
    "train_data['FamilySize'] = train_data.Parch + train_data.SibSp + 1\n",
    "test_data['FamilySize'] = train_data.Parch + train_data.SibSp + 1\n",
    "train_data = train_data.drop(columns = ['Parch','SibSp'])\n",
    "test_data = test_data.drop(columns = ['Parch','SibSp'])"
   ]
  },
  {
   "cell_type": "code",
   "execution_count": 33,
   "metadata": {
    "execution": {
     "iopub.execute_input": "2021-01-22T01:41:55.356059Z",
     "iopub.status.busy": "2021-01-22T01:41:55.355101Z",
     "iopub.status.idle": "2021-01-22T01:41:55.362393Z",
     "shell.execute_reply": "2021-01-22T01:41:55.362829Z"
    },
    "papermill": {
     "duration": 0.043583,
     "end_time": "2021-01-22T01:41:55.362978",
     "exception": false,
     "start_time": "2021-01-22T01:41:55.319395",
     "status": "completed"
    },
    "tags": []
   },
   "outputs": [
    {
     "data": {
      "text/plain": [
       "1     537\n",
       "2     161\n",
       "3     102\n",
       "4      29\n",
       "6      22\n",
       "5      15\n",
       "7      12\n",
       "11      7\n",
       "8       6\n",
       "Name: FamilySize, dtype: int64"
      ]
     },
     "execution_count": 33,
     "metadata": {},
     "output_type": "execute_result"
    }
   ],
   "source": [
    "train_data['FamilySize'].value_counts()"
   ]
  },
  {
   "cell_type": "code",
   "execution_count": 34,
   "metadata": {
    "execution": {
     "iopub.execute_input": "2021-01-22T01:41:55.433340Z",
     "iopub.status.busy": "2021-01-22T01:41:55.432784Z",
     "iopub.status.idle": "2021-01-22T01:41:55.457965Z",
     "shell.execute_reply": "2021-01-22T01:41:55.458399Z"
    },
    "papermill": {
     "duration": 0.062392,
     "end_time": "2021-01-22T01:41:55.458570",
     "exception": false,
     "start_time": "2021-01-22T01:41:55.396178",
     "status": "completed"
    },
    "tags": []
   },
   "outputs": [],
   "source": [
    "def family_type(row):\n",
    "    if row['FamilySize'] == 1:\n",
    "        return 'alone'\n",
    "    elif row['FamilySize'] <=3:\n",
    "        return 'small'\n",
    "    elif row['FamilySize'] <=6:\n",
    "        return 'medium'\n",
    "    else:\n",
    "        return 'big'\n",
    "    \n",
    "train_data['FamilyType'] = train_data.apply(lambda row: family_type(row), axis=1)\n",
    "test_data['FamilyType'] = test_data.apply(lambda row: family_type(row), axis=1)\n",
    "train_data = train_data.drop(columns = ['FamilySize'])\n",
    "test_data = test_data.drop(columns = ['FamilySize'])"
   ]
  },
  {
   "cell_type": "code",
   "execution_count": 35,
   "metadata": {
    "execution": {
     "iopub.execute_input": "2021-01-22T01:41:55.529168Z",
     "iopub.status.busy": "2021-01-22T01:41:55.528601Z",
     "iopub.status.idle": "2021-01-22T01:41:55.535340Z",
     "shell.execute_reply": "2021-01-22T01:41:55.535920Z"
    },
    "papermill": {
     "duration": 0.04355,
     "end_time": "2021-01-22T01:41:55.536070",
     "exception": false,
     "start_time": "2021-01-22T01:41:55.492520",
     "status": "completed"
    },
    "tags": []
   },
   "outputs": [
    {
     "data": {
      "text/plain": [
       "alone     537\n",
       "small     263\n",
       "medium     66\n",
       "big        25\n",
       "Name: FamilyType, dtype: int64"
      ]
     },
     "execution_count": 35,
     "metadata": {},
     "output_type": "execute_result"
    }
   ],
   "source": [
    "train_data['FamilyType'].value_counts()"
   ]
  },
  {
   "cell_type": "code",
   "execution_count": 36,
   "metadata": {
    "execution": {
     "iopub.execute_input": "2021-01-22T01:41:55.607189Z",
     "iopub.status.busy": "2021-01-22T01:41:55.606633Z",
     "iopub.status.idle": "2021-01-22T01:41:55.627266Z",
     "shell.execute_reply": "2021-01-22T01:41:55.626733Z"
    },
    "papermill": {
     "duration": 0.057401,
     "end_time": "2021-01-22T01:41:55.627378",
     "exception": false,
     "start_time": "2021-01-22T01:41:55.569977",
     "status": "completed"
    },
    "tags": []
   },
   "outputs": [
    {
     "data": {
      "text/plain": [
       "Age          \n",
       "(0.419, 20.0]    183\n",
       "(26.0, 30.0]     182\n",
       "(20.0, 26.0]     182\n",
       "(30.0, 40.0]     173\n",
       "(40.0, 80.0]     171\n",
       "dtype: int64"
      ]
     },
     "execution_count": 36,
     "metadata": {},
     "output_type": "execute_result"
    }
   ],
   "source": [
    "pd.qcut(train_data['Age'],q=5).to_frame().value_counts()"
   ]
  },
  {
   "cell_type": "code",
   "execution_count": 37,
   "metadata": {
    "execution": {
     "iopub.execute_input": "2021-01-22T01:41:55.713415Z",
     "iopub.status.busy": "2021-01-22T01:41:55.712415Z",
     "iopub.status.idle": "2021-01-22T01:41:55.721812Z",
     "shell.execute_reply": "2021-01-22T01:41:55.722348Z"
    },
    "papermill": {
     "duration": 0.060509,
     "end_time": "2021-01-22T01:41:55.722503",
     "exception": false,
     "start_time": "2021-01-22T01:41:55.661994",
     "status": "completed"
    },
    "tags": []
   },
   "outputs": [
    {
     "data": {
      "text/plain": [
       "Fare             \n",
       "(7.854, 10.5]        184\n",
       "(21.679, 39.688]     180\n",
       "(-0.001, 7.854]      179\n",
       "(39.688, 512.329]    176\n",
       "(10.5, 21.679]       172\n",
       "dtype: int64"
      ]
     },
     "execution_count": 37,
     "metadata": {},
     "output_type": "execute_result"
    }
   ],
   "source": [
    "pd.qcut(train_data['Fare'],q=5).to_frame().value_counts()"
   ]
  },
  {
   "cell_type": "code",
   "execution_count": 38,
   "metadata": {
    "execution": {
     "iopub.execute_input": "2021-01-22T01:41:55.796301Z",
     "iopub.status.busy": "2021-01-22T01:41:55.795364Z",
     "iopub.status.idle": "2021-01-22T01:41:55.826611Z",
     "shell.execute_reply": "2021-01-22T01:41:55.827053Z"
    },
    "papermill": {
     "duration": 0.069841,
     "end_time": "2021-01-22T01:41:55.827204",
     "exception": false,
     "start_time": "2021-01-22T01:41:55.757363",
     "status": "completed"
    },
    "tags": []
   },
   "outputs": [],
   "source": [
    "def fare_type(row):\n",
    "    if row['Fare'] <= 7.854:\n",
    "        return '1'\n",
    "    elif row['Fare'] <= 10.5:\n",
    "        return '2'\n",
    "    elif row['Fare'] <= 21.679:\n",
    "        return '3'\n",
    "    elif row['Fare'] <= 39.688:\n",
    "        return '4'\n",
    "    else :\n",
    "        return '5'\n",
    "\n",
    "train_data['FareType'] = train_data.apply(lambda row: fare_type(row), axis=1)\n",
    "test_data['FareType'] = test_data.apply(lambda row: fare_type(row), axis=1)\n",
    "train_data = train_data.drop(columns = ['Fare'])\n",
    "test_data = test_data.drop(columns = ['Fare'])"
   ]
  },
  {
   "cell_type": "code",
   "execution_count": 39,
   "metadata": {
    "execution": {
     "iopub.execute_input": "2021-01-22T01:41:55.919539Z",
     "iopub.status.busy": "2021-01-22T01:41:55.914986Z",
     "iopub.status.idle": "2021-01-22T01:41:55.932981Z",
     "shell.execute_reply": "2021-01-22T01:41:55.933489Z"
    },
    "papermill": {
     "duration": 0.072032,
     "end_time": "2021-01-22T01:41:55.933635",
     "exception": false,
     "start_time": "2021-01-22T01:41:55.861603",
     "status": "completed"
    },
    "tags": []
   },
   "outputs": [],
   "source": [
    "def age_type(row):\n",
    "    if row['Age'] <= 19:\n",
    "        return 0\n",
    "    elif row['Age'] <= 26:\n",
    "        return 1\n",
    "    elif row['Age'] <= 30:\n",
    "        return 2\n",
    "    elif row['Age'] <= 40.5:\n",
    "        return 3\n",
    "    else :\n",
    "        return 4\n",
    "\n",
    "train_data['AgeType'] = train_data.apply(lambda row: age_type(row), axis=1)\n",
    "test_data['AgeType'] = test_data.apply(lambda row: age_type(row), axis=1)\n",
    "train_data = train_data.drop(columns = ['Age'])\n",
    "test_data = test_data.drop(columns = ['Age'])"
   ]
  },
  {
   "cell_type": "code",
   "execution_count": 40,
   "metadata": {
    "execution": {
     "iopub.execute_input": "2021-01-22T01:41:56.010087Z",
     "iopub.status.busy": "2021-01-22T01:41:56.009138Z",
     "iopub.status.idle": "2021-01-22T01:41:56.012928Z",
     "shell.execute_reply": "2021-01-22T01:41:56.013976Z"
    },
    "papermill": {
     "duration": 0.045957,
     "end_time": "2021-01-22T01:41:56.014253",
     "exception": false,
     "start_time": "2021-01-22T01:41:55.968296",
     "status": "completed"
    },
    "tags": []
   },
   "outputs": [
    {
     "name": "stdout",
     "output_type": "stream",
     "text": [
      "['U' 'C' 'E' 'G' 'D' 'A' 'B' 'F' 'T']\n",
      "['U' 'B' 'E' 'A' 'C' 'D' 'F' 'G']\n"
     ]
    }
   ],
   "source": [
    "print(train_data.Cabin.unique())\n",
    "print(test_data.Cabin.unique())\n"
   ]
  },
  {
   "cell_type": "code",
   "execution_count": 41,
   "metadata": {
    "execution": {
     "iopub.execute_input": "2021-01-22T01:41:56.090810Z",
     "iopub.status.busy": "2021-01-22T01:41:56.090041Z",
     "iopub.status.idle": "2021-01-22T01:41:56.100004Z",
     "shell.execute_reply": "2021-01-22T01:41:56.100501Z"
    },
    "papermill": {
     "duration": 0.049793,
     "end_time": "2021-01-22T01:41:56.100671",
     "exception": false,
     "start_time": "2021-01-22T01:41:56.050878",
     "status": "completed"
    },
    "tags": []
   },
   "outputs": [
    {
     "name": "stdout",
     "output_type": "stream",
     "text": [
      "X_train shape : (891, 10)\n",
      "X_test shape : (418, 10)\n",
      "Y_train shape : (891,)\n"
     ]
    }
   ],
   "source": [
    "X_train = train_data.drop('Survived',axis = 1)\n",
    "Y_train = train_data['Survived']\n",
    "X_test = test_data.drop(\"PassengerId\", axis=1).copy()\n",
    "print('X_train shape :',X_train.shape)\n",
    "print('X_test shape :',X_test.shape)\n",
    "print('Y_train shape :',Y_train.shape)"
   ]
  },
  {
   "cell_type": "code",
   "execution_count": 42,
   "metadata": {
    "execution": {
     "iopub.execute_input": "2021-01-22T01:41:56.195545Z",
     "iopub.status.busy": "2021-01-22T01:41:56.194560Z",
     "iopub.status.idle": "2021-01-22T01:41:56.199253Z",
     "shell.execute_reply": "2021-01-22T01:41:56.198685Z"
    },
    "papermill": {
     "duration": 0.062068,
     "end_time": "2021-01-22T01:41:56.199388",
     "exception": false,
     "start_time": "2021-01-22T01:41:56.137320",
     "status": "completed"
    },
    "tags": []
   },
   "outputs": [
    {
     "data": {
      "text/html": [
       "<div>\n",
       "<style scoped>\n",
       "    .dataframe tbody tr th:only-of-type {\n",
       "        vertical-align: middle;\n",
       "    }\n",
       "\n",
       "    .dataframe tbody tr th {\n",
       "        vertical-align: top;\n",
       "    }\n",
       "\n",
       "    .dataframe thead th {\n",
       "        text-align: right;\n",
       "    }\n",
       "</style>\n",
       "<table border=\"1\" class=\"dataframe\">\n",
       "  <thead>\n",
       "    <tr style=\"text-align: right;\">\n",
       "      <th></th>\n",
       "      <th>Pclass</th>\n",
       "      <th>Sex</th>\n",
       "      <th>Ticket</th>\n",
       "      <th>Cabin</th>\n",
       "      <th>Embarked</th>\n",
       "      <th>Status</th>\n",
       "      <th>BorF</th>\n",
       "      <th>FamilyType</th>\n",
       "      <th>FareType</th>\n",
       "      <th>AgeType</th>\n",
       "    </tr>\n",
       "  </thead>\n",
       "  <tbody>\n",
       "    <tr>\n",
       "      <th>0</th>\n",
       "      <td>3</td>\n",
       "      <td>0</td>\n",
       "      <td>A5</td>\n",
       "      <td>U</td>\n",
       "      <td>S</td>\n",
       "      <td>Mr</td>\n",
       "      <td>0</td>\n",
       "      <td>small</td>\n",
       "      <td>1</td>\n",
       "      <td>1</td>\n",
       "    </tr>\n",
       "    <tr>\n",
       "      <th>1</th>\n",
       "      <td>1</td>\n",
       "      <td>1</td>\n",
       "      <td>PC</td>\n",
       "      <td>C</td>\n",
       "      <td>C</td>\n",
       "      <td>Woman</td>\n",
       "      <td>1</td>\n",
       "      <td>small</td>\n",
       "      <td>5</td>\n",
       "      <td>3</td>\n",
       "    </tr>\n",
       "    <tr>\n",
       "      <th>2</th>\n",
       "      <td>3</td>\n",
       "      <td>1</td>\n",
       "      <td>STONO2</td>\n",
       "      <td>U</td>\n",
       "      <td>S</td>\n",
       "      <td>Woman</td>\n",
       "      <td>1</td>\n",
       "      <td>alone</td>\n",
       "      <td>2</td>\n",
       "      <td>1</td>\n",
       "    </tr>\n",
       "    <tr>\n",
       "      <th>3</th>\n",
       "      <td>1</td>\n",
       "      <td>1</td>\n",
       "      <td>XXX</td>\n",
       "      <td>C</td>\n",
       "      <td>S</td>\n",
       "      <td>Woman</td>\n",
       "      <td>1</td>\n",
       "      <td>small</td>\n",
       "      <td>5</td>\n",
       "      <td>3</td>\n",
       "    </tr>\n",
       "    <tr>\n",
       "      <th>4</th>\n",
       "      <td>3</td>\n",
       "      <td>0</td>\n",
       "      <td>XXX</td>\n",
       "      <td>U</td>\n",
       "      <td>S</td>\n",
       "      <td>Mr</td>\n",
       "      <td>0</td>\n",
       "      <td>alone</td>\n",
       "      <td>2</td>\n",
       "      <td>3</td>\n",
       "    </tr>\n",
       "    <tr>\n",
       "      <th>...</th>\n",
       "      <td>...</td>\n",
       "      <td>...</td>\n",
       "      <td>...</td>\n",
       "      <td>...</td>\n",
       "      <td>...</td>\n",
       "      <td>...</td>\n",
       "      <td>...</td>\n",
       "      <td>...</td>\n",
       "      <td>...</td>\n",
       "      <td>...</td>\n",
       "    </tr>\n",
       "    <tr>\n",
       "      <th>886</th>\n",
       "      <td>2</td>\n",
       "      <td>0</td>\n",
       "      <td>XXX</td>\n",
       "      <td>U</td>\n",
       "      <td>S</td>\n",
       "      <td>Rare</td>\n",
       "      <td>0</td>\n",
       "      <td>alone</td>\n",
       "      <td>3</td>\n",
       "      <td>2</td>\n",
       "    </tr>\n",
       "    <tr>\n",
       "      <th>887</th>\n",
       "      <td>1</td>\n",
       "      <td>1</td>\n",
       "      <td>XXX</td>\n",
       "      <td>B</td>\n",
       "      <td>S</td>\n",
       "      <td>Woman</td>\n",
       "      <td>1</td>\n",
       "      <td>alone</td>\n",
       "      <td>4</td>\n",
       "      <td>0</td>\n",
       "    </tr>\n",
       "    <tr>\n",
       "      <th>888</th>\n",
       "      <td>3</td>\n",
       "      <td>1</td>\n",
       "      <td>WC</td>\n",
       "      <td>U</td>\n",
       "      <td>S</td>\n",
       "      <td>Woman</td>\n",
       "      <td>1</td>\n",
       "      <td>medium</td>\n",
       "      <td>4</td>\n",
       "      <td>1</td>\n",
       "    </tr>\n",
       "    <tr>\n",
       "      <th>889</th>\n",
       "      <td>1</td>\n",
       "      <td>0</td>\n",
       "      <td>XXX</td>\n",
       "      <td>C</td>\n",
       "      <td>C</td>\n",
       "      <td>Mr</td>\n",
       "      <td>0</td>\n",
       "      <td>alone</td>\n",
       "      <td>4</td>\n",
       "      <td>1</td>\n",
       "    </tr>\n",
       "    <tr>\n",
       "      <th>890</th>\n",
       "      <td>3</td>\n",
       "      <td>0</td>\n",
       "      <td>XXX</td>\n",
       "      <td>U</td>\n",
       "      <td>Q</td>\n",
       "      <td>Mr</td>\n",
       "      <td>0</td>\n",
       "      <td>alone</td>\n",
       "      <td>1</td>\n",
       "      <td>3</td>\n",
       "    </tr>\n",
       "  </tbody>\n",
       "</table>\n",
       "<p>891 rows × 10 columns</p>\n",
       "</div>"
      ],
      "text/plain": [
       "     Pclass  Sex  Ticket Cabin Embarked Status  BorF FamilyType FareType  \\\n",
       "0         3    0      A5     U        S     Mr     0      small        1   \n",
       "1         1    1      PC     C        C  Woman     1      small        5   \n",
       "2         3    1  STONO2     U        S  Woman     1      alone        2   \n",
       "3         1    1     XXX     C        S  Woman     1      small        5   \n",
       "4         3    0     XXX     U        S     Mr     0      alone        2   \n",
       "..      ...  ...     ...   ...      ...    ...   ...        ...      ...   \n",
       "886       2    0     XXX     U        S   Rare     0      alone        3   \n",
       "887       1    1     XXX     B        S  Woman     1      alone        4   \n",
       "888       3    1      WC     U        S  Woman     1     medium        4   \n",
       "889       1    0     XXX     C        C     Mr     0      alone        4   \n",
       "890       3    0     XXX     U        Q     Mr     0      alone        1   \n",
       "\n",
       "     AgeType  \n",
       "0          1  \n",
       "1          3  \n",
       "2          1  \n",
       "3          3  \n",
       "4          3  \n",
       "..       ...  \n",
       "886        2  \n",
       "887        0  \n",
       "888        1  \n",
       "889        1  \n",
       "890        3  \n",
       "\n",
       "[891 rows x 10 columns]"
      ]
     },
     "execution_count": 42,
     "metadata": {},
     "output_type": "execute_result"
    }
   ],
   "source": [
    "X_train"
   ]
  },
  {
   "cell_type": "code",
   "execution_count": 43,
   "metadata": {
    "execution": {
     "iopub.execute_input": "2021-01-22T01:41:56.280129Z",
     "iopub.status.busy": "2021-01-22T01:41:56.279155Z",
     "iopub.status.idle": "2021-01-22T01:41:56.293163Z",
     "shell.execute_reply": "2021-01-22T01:41:56.293576Z"
    },
    "papermill": {
     "duration": 0.057757,
     "end_time": "2021-01-22T01:41:56.293717",
     "exception": false,
     "start_time": "2021-01-22T01:41:56.235960",
     "status": "completed"
    },
    "tags": []
   },
   "outputs": [
    {
     "data": {
      "text/html": [
       "<div>\n",
       "<style scoped>\n",
       "    .dataframe tbody tr th:only-of-type {\n",
       "        vertical-align: middle;\n",
       "    }\n",
       "\n",
       "    .dataframe tbody tr th {\n",
       "        vertical-align: top;\n",
       "    }\n",
       "\n",
       "    .dataframe thead th {\n",
       "        text-align: right;\n",
       "    }\n",
       "</style>\n",
       "<table border=\"1\" class=\"dataframe\">\n",
       "  <thead>\n",
       "    <tr style=\"text-align: right;\">\n",
       "      <th></th>\n",
       "      <th>Pclass</th>\n",
       "      <th>Ticket</th>\n",
       "      <th>Cabin</th>\n",
       "      <th>Embarked</th>\n",
       "      <th>Status</th>\n",
       "      <th>BorF</th>\n",
       "      <th>FamilyType</th>\n",
       "      <th>FareType</th>\n",
       "      <th>AgeType</th>\n",
       "    </tr>\n",
       "  </thead>\n",
       "  <tbody>\n",
       "    <tr>\n",
       "      <th>0</th>\n",
       "      <td>3</td>\n",
       "      <td>A5</td>\n",
       "      <td>U</td>\n",
       "      <td>S</td>\n",
       "      <td>Mr</td>\n",
       "      <td>0</td>\n",
       "      <td>small</td>\n",
       "      <td>1</td>\n",
       "      <td>1</td>\n",
       "    </tr>\n",
       "    <tr>\n",
       "      <th>1</th>\n",
       "      <td>1</td>\n",
       "      <td>PC</td>\n",
       "      <td>C</td>\n",
       "      <td>C</td>\n",
       "      <td>Woman</td>\n",
       "      <td>1</td>\n",
       "      <td>small</td>\n",
       "      <td>5</td>\n",
       "      <td>3</td>\n",
       "    </tr>\n",
       "    <tr>\n",
       "      <th>2</th>\n",
       "      <td>3</td>\n",
       "      <td>STONO2</td>\n",
       "      <td>U</td>\n",
       "      <td>S</td>\n",
       "      <td>Woman</td>\n",
       "      <td>1</td>\n",
       "      <td>alone</td>\n",
       "      <td>2</td>\n",
       "      <td>1</td>\n",
       "    </tr>\n",
       "    <tr>\n",
       "      <th>3</th>\n",
       "      <td>1</td>\n",
       "      <td>XXX</td>\n",
       "      <td>C</td>\n",
       "      <td>S</td>\n",
       "      <td>Woman</td>\n",
       "      <td>1</td>\n",
       "      <td>small</td>\n",
       "      <td>5</td>\n",
       "      <td>3</td>\n",
       "    </tr>\n",
       "    <tr>\n",
       "      <th>4</th>\n",
       "      <td>3</td>\n",
       "      <td>XXX</td>\n",
       "      <td>U</td>\n",
       "      <td>S</td>\n",
       "      <td>Mr</td>\n",
       "      <td>0</td>\n",
       "      <td>alone</td>\n",
       "      <td>2</td>\n",
       "      <td>3</td>\n",
       "    </tr>\n",
       "  </tbody>\n",
       "</table>\n",
       "</div>"
      ],
      "text/plain": [
       "   Pclass  Ticket Cabin Embarked Status  BorF FamilyType FareType  AgeType\n",
       "0       3      A5     U        S     Mr     0      small        1        1\n",
       "1       1      PC     C        C  Woman     1      small        5        3\n",
       "2       3  STONO2     U        S  Woman     1      alone        2        1\n",
       "3       1     XXX     C        S  Woman     1      small        5        3\n",
       "4       3     XXX     U        S     Mr     0      alone        2        3"
      ]
     },
     "execution_count": 43,
     "metadata": {},
     "output_type": "execute_result"
    }
   ],
   "source": [
    "# since we don't have the same value for train.cabin and test.cabin \n",
    "# and train.ticket and test.ticket, we have to combine this 2 dataset to one-hot encode\n",
    "combined = X_train.append(X_test)\n",
    "combined = combined.drop(columns = 'Sex')\n",
    "combined.head()"
   ]
  },
  {
   "cell_type": "code",
   "execution_count": 44,
   "metadata": {
    "execution": {
     "iopub.execute_input": "2021-01-22T01:41:56.370174Z",
     "iopub.status.busy": "2021-01-22T01:41:56.369248Z",
     "iopub.status.idle": "2021-01-22T01:41:56.375920Z",
     "shell.execute_reply": "2021-01-22T01:41:56.375411Z"
    },
    "papermill": {
     "duration": 0.045872,
     "end_time": "2021-01-22T01:41:56.376026",
     "exception": false,
     "start_time": "2021-01-22T01:41:56.330154",
     "status": "completed"
    },
    "tags": []
   },
   "outputs": [
    {
     "name": "stdout",
     "output_type": "stream",
     "text": [
      "['Pclass', 'Embarked', 'Status', 'FamilyType', 'FareType', 'AgeType', 'Ticket', 'Cabin']\n"
     ]
    }
   ],
   "source": [
    "categorical_features = ['Pclass', 'Embarked', 'Status', 'FamilyType', 'FareType', 'AgeType','Ticket' ,'Cabin']\n",
    "print(categorical_features)"
   ]
  },
  {
   "cell_type": "code",
   "execution_count": 45,
   "metadata": {
    "execution": {
     "iopub.execute_input": "2021-01-22T01:41:56.454647Z",
     "iopub.status.busy": "2021-01-22T01:41:56.453994Z",
     "iopub.status.idle": "2021-01-22T01:41:56.457037Z",
     "shell.execute_reply": "2021-01-22T01:41:56.456412Z"
    },
    "papermill": {
     "duration": 0.044237,
     "end_time": "2021-01-22T01:41:56.457159",
     "exception": false,
     "start_time": "2021-01-22T01:41:56.412922",
     "status": "completed"
    },
    "tags": []
   },
   "outputs": [],
   "source": [
    "pipeline = ColumnTransformer([\n",
    "    (\"cat\", OneHotEncoder(), categorical_features) # Perform One-Hot encoding on the category attributes\n",
    "])"
   ]
  },
  {
   "cell_type": "code",
   "execution_count": 46,
   "metadata": {
    "execution": {
     "iopub.execute_input": "2021-01-22T01:41:56.539681Z",
     "iopub.status.busy": "2021-01-22T01:41:56.538788Z",
     "iopub.status.idle": "2021-01-22T01:41:56.547730Z",
     "shell.execute_reply": "2021-01-22T01:41:56.547128Z"
    },
    "papermill": {
     "duration": 0.05333,
     "end_time": "2021-01-22T01:41:56.547839",
     "exception": false,
     "start_time": "2021-01-22T01:41:56.494509",
     "status": "completed"
    },
    "tags": []
   },
   "outputs": [],
   "source": [
    "combined = pipeline.fit_transform(combined)"
   ]
  },
  {
   "cell_type": "code",
   "execution_count": 47,
   "metadata": {
    "execution": {
     "iopub.execute_input": "2021-01-22T01:41:56.627330Z",
     "iopub.status.busy": "2021-01-22T01:41:56.626757Z",
     "iopub.status.idle": "2021-01-22T01:41:56.632818Z",
     "shell.execute_reply": "2021-01-22T01:41:56.632175Z"
    },
    "papermill": {
     "duration": 0.047339,
     "end_time": "2021-01-22T01:41:56.632937",
     "exception": false,
     "start_time": "2021-01-22T01:41:56.585598",
     "status": "completed"
    },
    "tags": []
   },
   "outputs": [],
   "source": [
    "X_train = combined[:891] \n",
    "X_test = combined[891:]"
   ]
  },
  {
   "cell_type": "code",
   "execution_count": 48,
   "metadata": {
    "execution": {
     "iopub.execute_input": "2021-01-22T01:41:56.711175Z",
     "iopub.status.busy": "2021-01-22T01:41:56.710591Z",
     "iopub.status.idle": "2021-01-22T01:41:56.715393Z",
     "shell.execute_reply": "2021-01-22T01:41:56.715865Z"
    },
    "papermill": {
     "duration": 0.045412,
     "end_time": "2021-01-22T01:41:56.716018",
     "exception": false,
     "start_time": "2021-01-22T01:41:56.670606",
     "status": "completed"
    },
    "tags": []
   },
   "outputs": [],
   "source": [
    "param ={'max_depth' : [4, 6, 8, 10, None],\n",
    "        'n_estimators': [50, 100, 150],\n",
    "        'max_features': ['sqrt', 'auto', 'log2'],\n",
    "        'min_samples_split': [2, 3, 10],\n",
    "        'min_samples_leaf': [1, 3, 10],\n",
    "        'bootstrap': [True, False]}"
   ]
  },
  {
   "cell_type": "code",
   "execution_count": 49,
   "metadata": {
    "execution": {
     "iopub.execute_input": "2021-01-22T01:41:56.794998Z",
     "iopub.status.busy": "2021-01-22T01:41:56.794378Z",
     "iopub.status.idle": "2021-01-22T01:41:56.800785Z",
     "shell.execute_reply": "2021-01-22T01:41:56.800262Z"
    },
    "papermill": {
     "duration": 0.047082,
     "end_time": "2021-01-22T01:41:56.800913",
     "exception": false,
     "start_time": "2021-01-22T01:41:56.753831",
     "status": "completed"
    },
    "tags": []
   },
   "outputs": [
    {
     "data": {
      "text/plain": [
       "\"\\nfrom sklearn.model_selection import RandomizedSearchCV\\nfrom sklearn.model_selection import RepeatedStratifiedKFold\\nrnd_search = RandomizedSearchCV(RandomForestClassifier(), param, cv=RepeatedStratifiedKFold(n_splits=10, n_repeats=2, random_state=42),scoring='accuracy')\\nrnd_search.fit(X_train,Y_train)\\nprint(rnd_search.best_params_)\\nprint(rnd_search.best_score_)\\n\""
      ]
     },
     "execution_count": 49,
     "metadata": {},
     "output_type": "execute_result"
    }
   ],
   "source": [
    "'''\n",
    "from sklearn.model_selection import RandomizedSearchCV\n",
    "from sklearn.model_selection import RepeatedStratifiedKFold\n",
    "rnd_search = RandomizedSearchCV(RandomForestClassifier(), param, cv=RepeatedStratifiedKFold(n_splits=10, n_repeats=2, random_state=42),scoring='accuracy')\n",
    "rnd_search.fit(X_train,Y_train)\n",
    "print(rnd_search.best_params_)\n",
    "print(rnd_search.best_score_)\n",
    "'''"
   ]
  },
  {
   "cell_type": "code",
   "execution_count": 50,
   "metadata": {
    "execution": {
     "iopub.execute_input": "2021-01-22T01:41:56.880932Z",
     "iopub.status.busy": "2021-01-22T01:41:56.879976Z",
     "iopub.status.idle": "2021-01-22T01:41:57.153779Z",
     "shell.execute_reply": "2021-01-22T01:41:57.153117Z"
    },
    "papermill": {
     "duration": 0.31449,
     "end_time": "2021-01-22T01:41:57.153903",
     "exception": false,
     "start_time": "2021-01-22T01:41:56.839413",
     "status": "completed"
    },
    "tags": []
   },
   "outputs": [
    {
     "data": {
      "text/plain": [
       "RandomForestClassifier(bootstrap=False, max_depth=10, min_samples_leaf=3,\n",
       "                       min_samples_split=10, n_estimators=150)"
      ]
     },
     "execution_count": 50,
     "metadata": {},
     "output_type": "execute_result"
    }
   ],
   "source": [
    "parameters = {'bootstrap': False, 'min_samples_leaf': 3, 'n_estimators': 150, \n",
    "                  'min_samples_split': 10, 'max_features': 'auto', 'max_depth': 10}\n",
    "best_model = RandomForestClassifier(**parameters)\n",
    "best_model.fit(X_train,Y_train)"
   ]
  },
  {
   "cell_type": "code",
   "execution_count": 51,
   "metadata": {
    "execution": {
     "iopub.execute_input": "2021-01-22T01:41:57.236868Z",
     "iopub.status.busy": "2021-01-22T01:41:57.236186Z",
     "iopub.status.idle": "2021-01-22T01:41:57.290493Z",
     "shell.execute_reply": "2021-01-22T01:41:57.290971Z"
    },
    "papermill": {
     "duration": 0.097622,
     "end_time": "2021-01-22T01:41:57.291125",
     "exception": false,
     "start_time": "2021-01-22T01:41:57.193503",
     "status": "completed"
    },
    "tags": []
   },
   "outputs": [
    {
     "data": {
      "text/plain": [
       "0.8664421997755332"
      ]
     },
     "execution_count": 51,
     "metadata": {},
     "output_type": "execute_result"
    }
   ],
   "source": [
    "Y_pred = best_model.predict(X_test)\n",
    "best_model.score(X_train, Y_train)"
   ]
  },
  {
   "cell_type": "code",
   "execution_count": 52,
   "metadata": {
    "execution": {
     "iopub.execute_input": "2021-01-22T01:41:57.372659Z",
     "iopub.status.busy": "2021-01-22T01:41:57.371750Z",
     "iopub.status.idle": "2021-01-22T01:42:00.049936Z",
     "shell.execute_reply": "2021-01-22T01:42:00.050420Z"
    },
    "papermill": {
     "duration": 2.720268,
     "end_time": "2021-01-22T01:42:00.050614",
     "exception": false,
     "start_time": "2021-01-22T01:41:57.330346",
     "status": "completed"
    },
    "tags": []
   },
   "outputs": [
    {
     "name": "stdout",
     "output_type": "stream",
     "text": [
      "Scores: [0.78888889 0.83146067 0.74157303 0.87640449 0.8988764  0.85393258\n",
      " 0.85393258 0.79775281 0.83146067 0.85393258]\n",
      "Mean: 0.8328214731585518\n",
      "Standard Deviation: 0.04369168702061913\n"
     ]
    }
   ],
   "source": [
    "from sklearn.model_selection import cross_val_score\n",
    "scores = cross_val_score(best_model, X_train, Y_train, cv=10, scoring = \"accuracy\")\n",
    "print(\"Scores:\", scores)\n",
    "print(\"Mean:\", scores.mean())\n",
    "print(\"Standard Deviation:\", scores.std())"
   ]
  },
  {
   "cell_type": "code",
   "execution_count": 53,
   "metadata": {
    "execution": {
     "iopub.execute_input": "2021-01-22T01:42:00.135668Z",
     "iopub.status.busy": "2021-01-22T01:42:00.135012Z",
     "iopub.status.idle": "2021-01-22T01:42:00.491532Z",
     "shell.execute_reply": "2021-01-22T01:42:00.491043Z"
    },
    "papermill": {
     "duration": 0.401997,
     "end_time": "2021-01-22T01:42:00.491663",
     "exception": false,
     "start_time": "2021-01-22T01:42:00.089666",
     "status": "completed"
    },
    "tags": []
   },
   "outputs": [
    {
     "name": "stdout",
     "output_type": "stream",
     "text": [
      "Your submission was successfully saved!\n"
     ]
    }
   ],
   "source": [
    "output = pd.DataFrame({'PassengerId': test_data['PassengerId'], 'Survived': Y_pred})\n",
    "output.to_csv('my_submission.csv', index=False)\n",
    "print(\"Your submission was successfully saved!\")"
   ]
  },
  {
   "cell_type": "code",
   "execution_count": 54,
   "metadata": {
    "execution": {
     "iopub.execute_input": "2021-01-22T01:42:00.577599Z",
     "iopub.status.busy": "2021-01-22T01:42:00.576662Z",
     "iopub.status.idle": "2021-01-22T01:42:00.580101Z",
     "shell.execute_reply": "2021-01-22T01:42:00.580679Z"
    },
    "papermill": {
     "duration": 0.050259,
     "end_time": "2021-01-22T01:42:00.580827",
     "exception": false,
     "start_time": "2021-01-22T01:42:00.530568",
     "status": "completed"
    },
    "tags": []
   },
   "outputs": [
    {
     "data": {
      "text/plain": [
       "0    276\n",
       "1    142\n",
       "Name: Survived, dtype: int64"
      ]
     },
     "execution_count": 54,
     "metadata": {},
     "output_type": "execute_result"
    }
   ],
   "source": [
    "output.Survived.value_counts()"
   ]
  }
 ],
 "metadata": {
  "kernelspec": {
   "display_name": "Python 3",
   "language": "python",
   "name": "python3"
  },
  "language_info": {
   "codemirror_mode": {
    "name": "ipython",
    "version": 3
   },
   "file_extension": ".py",
   "mimetype": "text/x-python",
   "name": "python",
   "nbconvert_exporter": "python",
   "pygments_lexer": "ipython3",
   "version": "3.7.6"
  },
  "papermill": {
   "duration": 14.666979,
   "end_time": "2021-01-22T01:42:00.727956",
   "environment_variables": {},
   "exception": null,
   "input_path": "__notebook__.ipynb",
   "output_path": "__notebook__.ipynb",
   "parameters": {},
   "start_time": "2021-01-22T01:41:46.060977",
   "version": "2.1.0"
  }
 },
 "nbformat": 4,
 "nbformat_minor": 4
}
